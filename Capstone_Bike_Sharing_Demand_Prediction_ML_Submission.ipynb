{
  "nbformat": 4,
  "nbformat_minor": 0,
  "metadata": {
    "colab": {
      "provenance": [],
      "collapsed_sections": [
        "vncDsAP0Gaoa",
        "FJNUwmbgGyua",
        "w6K7xa23Elo4",
        "yQaldy8SH6Dl",
        "mDgbUHAGgjLW",
        "O_i_v8NEhb9l",
        "HhfV-JJviCcP",
        "Y3lxredqlCYt",
        "3RnN4peoiCZX",
        "x71ZqKXriCWQ",
        "7hBIi_osiCS2",
        "JlHwYmJAmNHm",
        "35m5QtbWiB9F",
        "PoPl-ycgm1ru",
        "H0kj-8xxnORC",
        "nA9Y7ga8ng1Z",
        "PBTbrJXOngz2",
        "u3PMJOP6ngxN",
        "dauF4eBmngu3",
        "bKJF3rekwFvQ",
        "MSa1f5Uengrz",
        "GF8Ens_Soomf",
        "0wOQAZs5pc--",
        "K5QZ13OEpz2H",
        "lQ7QKXXCp7Bj",
        "448CDAPjqfQr",
        "KSlN3yHqYklG",
        "t6dVpIINYklI",
        "ijmpgYnKYklI",
        "-JiQyfWJYklI",
        "EM7whBJCYoAo",
        "fge-S5ZAYoAp",
        "85gYPyotYoAp",
        "RoGjAbkUYoAp",
        "4Of9eVA-YrdM",
        "iky9q4vBYrdO",
        "F6T5p64dYrdO",
        "y-Ehk30pYrdP",
        "bamQiAODYuh1",
        "QHF8YVU7Yuh3",
        "GwzvFGzlYuh3",
        "qYpmQ266Yuh3",
        "OH-pJp9IphqM",
        "bbFf2-_FphqN",
        "_ouA3fa0phqN",
        "Seke61FWphqN",
        "PIIx-8_IphqN",
        "t27r6nlMphqO",
        "r2jJGEOYphqO",
        "b0JNsNcRphqO",
        "BZR9WyysphqO",
        "jj7wYXLtphqO",
        "eZrbJ2SmphqO",
        "rFu4xreNphqO",
        "YJ55k-q6phqO",
        "gCFgpxoyphqP",
        "OVtJsKN_phqQ",
        "lssrdh5qphqQ",
        "U2RJ9gkRphqQ",
        "1M8mcRywphqQ",
        "tgIPom80phqQ",
        "JMzcOPDDphqR",
        "x-EpHcCOp1ci",
        "X_VqEhTip1ck",
        "8zGJKyg5p1ck",
        "PVzmfK_Ep1ck",
        "n3dbpmDWp1ck",
        "ylSl6qgtp1ck",
        "ZWILFDl5p1ck",
        "M7G43BXep1ck",
        "Ag9LCva-p1cl",
        "E6MkPsBcp1cl",
        "2cELzS2fp1cl",
        "3MPXvC8up1cl",
        "NC_X3p0fY2L0",
        "UV0SzAkaZNRQ",
        "YPEH6qLeZNRQ",
        "q29F0dvdveiT",
        "EXh0U9oCveiU",
        "22aHeOlLveiV",
        "g-ATYxFrGrvw",
        "Yfr_Vlr8HBkt",
        "8yEUt7NnHlrM",
        "tEA2Xm5dHt1r",
        "I79__PHVH19G",
        "Ou-I18pAyIpj",
        "fF3858GYyt-u",
        "4_0_7-oCpUZd",
        "hwyV_J3ipUZe",
        "3yB-zSqbpUZe",
        "dEUvejAfpUZe",
        "Fd15vwWVpUZf",
        "bn_IUdTipZyH",
        "49K5P_iCpZyH",
        "Nff-vKELpZyI",
        "kLW572S8pZyI",
        "dWbDXHzopZyI",
        "yLjJCtPM0KBk",
        "xiyOF9F70UgQ",
        "7wuGOrhz0itI",
        "id1riN9m0vUs",
        "578E2V7j08f6",
        "89xtkJwZ18nB",
        "67NQN5KX2AMe",
        "Iwf50b-R2tYG",
        "GMQiZwjn3iu7",
        "WVIkgGqN3qsr",
        "XkPnILGE3zoT",
        "Hlsf0x5436Go",
        "mT9DMSJo4nBL",
        "c49ITxTc407N",
        "OeJFEK0N496M",
        "9ExmJH0g5HBk",
        "cJNqERVU536h",
        "k5UmGsbsOxih",
        "T0VqWOYE6DLQ",
        "qBMux9mC6MCf",
        "-oLEiFgy-5Pf",
        "C74aWNz2AliB",
        "2DejudWSA-a0",
        "pEMng2IbBLp7",
        "rAdphbQ9Bhjc",
        "TNVZ9zx19K6k",
        "nqoHp30x9hH9",
        "rMDnDkt2B6du",
        "yiiVWRdJDDil",
        "1UUpS68QDMuG",
        "kexQrXU-DjzY",
        "T5CmagL3EC8N",
        "BhH2vgX9EjGr",
        "qjKvONjwE8ra",
        "P1XJ9OREExlT",
        "VFOzZv6IFROw",
        "TIqpNgepFxVj",
        "VfCC591jGiD4",
        "OB4l2ZhMeS1U",
        "ArJBuiUVfxKd",
        "4qY1EAkEfxKe",
        "PiV4Ypx8fxKe",
        "TfvqoZmBfxKf",
        "dJ2tPlVmpsJ0",
        "JWYfwnehpsJ1",
        "-jK_YjpMpsJ2",
        "HAih1iBOpsJ2",
        "zVGeBEFhpsJ2",
        "bmKjuQ-FpsJ3",
        "Fze-IPXLpx6K",
        "7AN1z2sKpx6M",
        "9PIHJqyupx6M",
        "_-qAgymDpx6N",
        "Z-hykwinpx6N",
        "h_CCil-SKHpo",
        "cBFFvTBNJzUa",
        "HvGl1hHyA_VK",
        "EyNgTHvd2WFk",
        "KH5McJBi2d8v",
        "iW_Lq9qf2h6X",
        "-Kee-DAl2viO",
        "gCX9965dhzqZ",
        "gIfDvo9L0UH2"
      ],
      "include_colab_link": true
    },
    "kernelspec": {
      "name": "python3",
      "display_name": "Python 3"
    },
    "language_info": {
      "name": "python"
    }
  },
  "cells": [
    {
      "cell_type": "markdown",
      "metadata": {
        "id": "view-in-github",
        "colab_type": "text"
      },
      "source": [
        "<a href=\"https://colab.research.google.com/github/RayedShamim/Regression-Capstone-Seoul-Bike-Sharing-Capstone-Project/blob/main/Capstone_Bike_Sharing_Demand_Prediction_ML_Submission.ipynb\" target=\"_parent\"><img src=\"https://colab.research.google.com/assets/colab-badge.svg\" alt=\"Open In Colab\"/></a>"
      ]
    },
    {
      "cell_type": "markdown",
      "source": [
        "# **Project Name**    - **Seoul Bike Sharing Demand Prediction**\n",
        "### by Rayed Shamim\n",
        "\n"
      ],
      "metadata": {
        "id": "vncDsAP0Gaoa"
      }
    },
    {
      "cell_type": "markdown",
      "source": [
        "##### **Project Type**    - Regression\n",
        "##### **Contribution**    - Individual"
      ],
      "metadata": {
        "id": "beRrZCGUAJYm"
      }
    },
    {
      "cell_type": "markdown",
      "source": [
        "# **Project Summary -**"
      ],
      "metadata": {
        "id": "FJNUwmbgGyua"
      }
    },
    {
      "cell_type": "markdown",
      "source": [
        "..."
      ],
      "metadata": {
        "id": "F6v_1wHtG2nS"
      }
    },
    {
      "cell_type": "markdown",
      "source": [
        "# **GitHub Link -**"
      ],
      "metadata": {
        "id": "w6K7xa23Elo4"
      }
    },
    {
      "cell_type": "markdown",
      "source": [
        "https://github.com/RayedShamim/Regression-Capstone-Seoul-Bike-Sharing-Capstone-Project"
      ],
      "metadata": {
        "id": "h1o69JH3Eqqn"
      }
    },
    {
      "cell_type": "markdown",
      "source": [
        "# **Problem Statement**\n"
      ],
      "metadata": {
        "id": "yQaldy8SH6Dl"
      }
    },
    {
      "cell_type": "markdown",
      "source": [
        "Seoul, the capital of South Korea, is one of the largest cities in the world with over 10 million people living in it. And transportation in such large cities often becomes an issue from time to time. Rental Bikes offer a solution to this problem. This helps the people in less waiting time, high mobility and a comfortable ride.\n",
        "\n",
        "Now with growing population in urban cities, it become a challenging task to provide a stable supply of retal bikes at peak hours. A lot of variable are taken into account when dealing with the bike demand such as hour, weather conditions, and if it is a holiday. Certain hours have more demand.\n",
        "\n",
        "So using the data provided we are going to analysis and predict the bike sharing demand every hour, using certain mathematical algorithms. We will see how certain condition such as season and weather affect the demand of the bike."
      ],
      "metadata": {
        "id": "DpeJGUA3kjGy"
      }
    },
    {
      "cell_type": "markdown",
      "source": [
        "# **General Guidelines** : -  "
      ],
      "metadata": {
        "id": "mDgbUHAGgjLW"
      }
    },
    {
      "cell_type": "markdown",
      "source": [
        "1.   Well-structured, formatted, and commented code is required.\n",
        "2.   Exception Handling, Production Grade Code & Deployment Ready Code will be a plus. Those students will be awarded some additional credits.\n",
        "     \n",
        "     The additional credits will have advantages over other students during Star Student selection.\n",
        "       \n",
        "             [ Note: - Deployment Ready Code is defined as, the whole .ipynb notebook should be executable in one go\n",
        "                       without a single error logged. ]\n",
        "\n",
        "3.   Each and every logic should have proper comments.\n",
        "4. You may add as many number of charts you want. Make Sure for each and every chart the following format should be answered.\n",
        "        \n",
        "\n",
        "```\n",
        "# Chart visualization code\n",
        "```\n",
        "            \n",
        "\n",
        "*   Why did you pick the specific chart?\n",
        "*   What is/are the insight(s) found from the chart?\n",
        "* Will the gained insights help creating a positive business impact?\n",
        "Are there any insights that lead to negative growth? Justify with specific reason.\n",
        "\n",
        "5. You have to create at least 15 logical & meaningful charts having important insights.\n",
        "\n",
        "\n",
        "[ Hints : - Do the Vizualization in  a structured way while following \"UBM\" Rule.\n",
        "\n",
        "U - Univariate Analysis,\n",
        "\n",
        "B - Bivariate Analysis (Numerical - Categorical, Numerical - Numerical, Categorical - Categorical)\n",
        "\n",
        "M - Multivariate Analysis\n",
        " ]\n",
        "\n",
        "\n",
        "\n",
        "\n",
        "\n",
        "6. You may add more ml algorithms for model creation. Make sure for each and every algorithm, the following format should be answered.\n",
        "\n",
        "\n",
        "*   Explain the ML Model used and it's performance using Evaluation metric Score Chart.\n",
        "\n",
        "\n",
        "*   Cross- Validation & Hyperparameter Tuning\n",
        "\n",
        "*   Have you seen any improvement? Note down the improvement with updates Evaluation metric Score Chart.\n",
        "\n",
        "*   Explain each evaluation metric's indication towards business and the business impact pf the ML model used.\n",
        "\n",
        "\n",
        "\n",
        "\n",
        "\n",
        "\n",
        "\n",
        "\n",
        "\n",
        "\n",
        "\n",
        "\n",
        "\n",
        "\n",
        "\n",
        "\n",
        "\n",
        "\n"
      ],
      "metadata": {
        "id": "ZrxVaUj-hHfC"
      }
    },
    {
      "cell_type": "markdown",
      "source": [
        "# ***Let's Begin !***"
      ],
      "metadata": {
        "id": "O_i_v8NEhb9l"
      }
    },
    {
      "cell_type": "markdown",
      "source": [
        "## ***1. Know Your Data***"
      ],
      "metadata": {
        "id": "HhfV-JJviCcP"
      }
    },
    {
      "cell_type": "markdown",
      "source": [
        "### Import Libraries"
      ],
      "metadata": {
        "id": "Y3lxredqlCYt"
      }
    },
    {
      "cell_type": "code",
      "source": [
        "# Import Libraries\n",
        "import numpy as np\n",
        "import pandas as pd\n",
        "import matplotlib.pyplot as plt\n",
        "import seaborn as sns\n",
        "from datetime import datetime\n",
        "from datetime import date\n",
        "import warnings\n",
        "\n",
        "from sklearn.preprocessing import MinMaxScaler\n",
        "from sklearn.model_selection import train_test_split\n",
        "from sklearn.linear_model import LinearRegression\n",
        "from sklearn.metrics import r2_score\n",
        "from sklearn.metrics import mean_squared_error\n"
      ],
      "metadata": {
        "id": "M8Vqi-pPk-HR"
      },
      "execution_count": 2,
      "outputs": []
    },
    {
      "cell_type": "markdown",
      "source": [
        "### Dataset Loading"
      ],
      "metadata": {
        "id": "3RnN4peoiCZX"
      }
    },
    {
      "cell_type": "code",
      "source": [
        "# Load Dataset\n",
        "\n",
        "path = 'https://raw.githubusercontent.com/RayedShamim/Regression-Capstone-Seoul-Bike-Sharing-Capstone-Project/main/SeoulBikeData.csv'\n",
        "\n",
        "df = pd.read_csv('https://raw.githubusercontent.com/RayedShamim/Regression-Capstone-Seoul-Bike-Sharing-Capstone-Project/main/SeoulBikeData.csv',encoding = 'unicode_escape')"
      ],
      "metadata": {
        "id": "4CkvbW_SlZ_R"
      },
      "execution_count": 3,
      "outputs": []
    },
    {
      "cell_type": "markdown",
      "source": [
        "### Dataset First View"
      ],
      "metadata": {
        "id": "x71ZqKXriCWQ"
      }
    },
    {
      "cell_type": "code",
      "source": [
        "# Dataset First Look\n",
        "df.head()"
      ],
      "metadata": {
        "id": "LWNFOSvLl09H",
        "colab": {
          "base_uri": "https://localhost:8080/",
          "height": 0
        },
        "outputId": "19221960-36f1-488b-eed1-be5501eaa3c6"
      },
      "execution_count": 4,
      "outputs": [
        {
          "output_type": "execute_result",
          "data": {
            "text/plain": [
              "         Date  Rented Bike Count  Hour  Temperature(°C)  Humidity(%)  \\\n",
              "0  01/12/2017                254     0             -5.2           37   \n",
              "1  01/12/2017                204     1             -5.5           38   \n",
              "2  01/12/2017                173     2             -6.0           39   \n",
              "3  01/12/2017                107     3             -6.2           40   \n",
              "4  01/12/2017                 78     4             -6.0           36   \n",
              "\n",
              "   Wind speed (m/s)  Visibility (10m)  Dew point temperature(°C)  \\\n",
              "0               2.2              2000                      -17.6   \n",
              "1               0.8              2000                      -17.6   \n",
              "2               1.0              2000                      -17.7   \n",
              "3               0.9              2000                      -17.6   \n",
              "4               2.3              2000                      -18.6   \n",
              "\n",
              "   Solar Radiation (MJ/m2)  Rainfall(mm)  Snowfall (cm) Seasons     Holiday  \\\n",
              "0                      0.0           0.0            0.0  Winter  No Holiday   \n",
              "1                      0.0           0.0            0.0  Winter  No Holiday   \n",
              "2                      0.0           0.0            0.0  Winter  No Holiday   \n",
              "3                      0.0           0.0            0.0  Winter  No Holiday   \n",
              "4                      0.0           0.0            0.0  Winter  No Holiday   \n",
              "\n",
              "  Functioning Day  \n",
              "0             Yes  \n",
              "1             Yes  \n",
              "2             Yes  \n",
              "3             Yes  \n",
              "4             Yes  "
            ],
            "text/html": [
              "\n",
              "\n",
              "  <div id=\"df-7c9bca18-bf4d-415e-a859-0e5cde23f721\">\n",
              "    <div class=\"colab-df-container\">\n",
              "      <div>\n",
              "<style scoped>\n",
              "    .dataframe tbody tr th:only-of-type {\n",
              "        vertical-align: middle;\n",
              "    }\n",
              "\n",
              "    .dataframe tbody tr th {\n",
              "        vertical-align: top;\n",
              "    }\n",
              "\n",
              "    .dataframe thead th {\n",
              "        text-align: right;\n",
              "    }\n",
              "</style>\n",
              "<table border=\"1\" class=\"dataframe\">\n",
              "  <thead>\n",
              "    <tr style=\"text-align: right;\">\n",
              "      <th></th>\n",
              "      <th>Date</th>\n",
              "      <th>Rented Bike Count</th>\n",
              "      <th>Hour</th>\n",
              "      <th>Temperature(°C)</th>\n",
              "      <th>Humidity(%)</th>\n",
              "      <th>Wind speed (m/s)</th>\n",
              "      <th>Visibility (10m)</th>\n",
              "      <th>Dew point temperature(°C)</th>\n",
              "      <th>Solar Radiation (MJ/m2)</th>\n",
              "      <th>Rainfall(mm)</th>\n",
              "      <th>Snowfall (cm)</th>\n",
              "      <th>Seasons</th>\n",
              "      <th>Holiday</th>\n",
              "      <th>Functioning Day</th>\n",
              "    </tr>\n",
              "  </thead>\n",
              "  <tbody>\n",
              "    <tr>\n",
              "      <th>0</th>\n",
              "      <td>01/12/2017</td>\n",
              "      <td>254</td>\n",
              "      <td>0</td>\n",
              "      <td>-5.2</td>\n",
              "      <td>37</td>\n",
              "      <td>2.2</td>\n",
              "      <td>2000</td>\n",
              "      <td>-17.6</td>\n",
              "      <td>0.0</td>\n",
              "      <td>0.0</td>\n",
              "      <td>0.0</td>\n",
              "      <td>Winter</td>\n",
              "      <td>No Holiday</td>\n",
              "      <td>Yes</td>\n",
              "    </tr>\n",
              "    <tr>\n",
              "      <th>1</th>\n",
              "      <td>01/12/2017</td>\n",
              "      <td>204</td>\n",
              "      <td>1</td>\n",
              "      <td>-5.5</td>\n",
              "      <td>38</td>\n",
              "      <td>0.8</td>\n",
              "      <td>2000</td>\n",
              "      <td>-17.6</td>\n",
              "      <td>0.0</td>\n",
              "      <td>0.0</td>\n",
              "      <td>0.0</td>\n",
              "      <td>Winter</td>\n",
              "      <td>No Holiday</td>\n",
              "      <td>Yes</td>\n",
              "    </tr>\n",
              "    <tr>\n",
              "      <th>2</th>\n",
              "      <td>01/12/2017</td>\n",
              "      <td>173</td>\n",
              "      <td>2</td>\n",
              "      <td>-6.0</td>\n",
              "      <td>39</td>\n",
              "      <td>1.0</td>\n",
              "      <td>2000</td>\n",
              "      <td>-17.7</td>\n",
              "      <td>0.0</td>\n",
              "      <td>0.0</td>\n",
              "      <td>0.0</td>\n",
              "      <td>Winter</td>\n",
              "      <td>No Holiday</td>\n",
              "      <td>Yes</td>\n",
              "    </tr>\n",
              "    <tr>\n",
              "      <th>3</th>\n",
              "      <td>01/12/2017</td>\n",
              "      <td>107</td>\n",
              "      <td>3</td>\n",
              "      <td>-6.2</td>\n",
              "      <td>40</td>\n",
              "      <td>0.9</td>\n",
              "      <td>2000</td>\n",
              "      <td>-17.6</td>\n",
              "      <td>0.0</td>\n",
              "      <td>0.0</td>\n",
              "      <td>0.0</td>\n",
              "      <td>Winter</td>\n",
              "      <td>No Holiday</td>\n",
              "      <td>Yes</td>\n",
              "    </tr>\n",
              "    <tr>\n",
              "      <th>4</th>\n",
              "      <td>01/12/2017</td>\n",
              "      <td>78</td>\n",
              "      <td>4</td>\n",
              "      <td>-6.0</td>\n",
              "      <td>36</td>\n",
              "      <td>2.3</td>\n",
              "      <td>2000</td>\n",
              "      <td>-18.6</td>\n",
              "      <td>0.0</td>\n",
              "      <td>0.0</td>\n",
              "      <td>0.0</td>\n",
              "      <td>Winter</td>\n",
              "      <td>No Holiday</td>\n",
              "      <td>Yes</td>\n",
              "    </tr>\n",
              "  </tbody>\n",
              "</table>\n",
              "</div>\n",
              "      <button class=\"colab-df-convert\" onclick=\"convertToInteractive('df-7c9bca18-bf4d-415e-a859-0e5cde23f721')\"\n",
              "              title=\"Convert this dataframe to an interactive table.\"\n",
              "              style=\"display:none;\">\n",
              "\n",
              "  <svg xmlns=\"http://www.w3.org/2000/svg\" height=\"24px\"viewBox=\"0 0 24 24\"\n",
              "       width=\"24px\">\n",
              "    <path d=\"M0 0h24v24H0V0z\" fill=\"none\"/>\n",
              "    <path d=\"M18.56 5.44l.94 2.06.94-2.06 2.06-.94-2.06-.94-.94-2.06-.94 2.06-2.06.94zm-11 1L8.5 8.5l.94-2.06 2.06-.94-2.06-.94L8.5 2.5l-.94 2.06-2.06.94zm10 10l.94 2.06.94-2.06 2.06-.94-2.06-.94-.94-2.06-.94 2.06-2.06.94z\"/><path d=\"M17.41 7.96l-1.37-1.37c-.4-.4-.92-.59-1.43-.59-.52 0-1.04.2-1.43.59L10.3 9.45l-7.72 7.72c-.78.78-.78 2.05 0 2.83L4 21.41c.39.39.9.59 1.41.59.51 0 1.02-.2 1.41-.59l7.78-7.78 2.81-2.81c.8-.78.8-2.07 0-2.86zM5.41 20L4 18.59l7.72-7.72 1.47 1.35L5.41 20z\"/>\n",
              "  </svg>\n",
              "      </button>\n",
              "\n",
              "\n",
              "\n",
              "    <div id=\"df-673da72d-3c48-49ab-ab76-8ac5101f4107\">\n",
              "      <button class=\"colab-df-quickchart\" onclick=\"quickchart('df-673da72d-3c48-49ab-ab76-8ac5101f4107')\"\n",
              "              title=\"Suggest charts.\"\n",
              "              style=\"display:none;\">\n",
              "\n",
              "<svg xmlns=\"http://www.w3.org/2000/svg\" height=\"24px\"viewBox=\"0 0 24 24\"\n",
              "     width=\"24px\">\n",
              "    <g>\n",
              "        <path d=\"M19 3H5c-1.1 0-2 .9-2 2v14c0 1.1.9 2 2 2h14c1.1 0 2-.9 2-2V5c0-1.1-.9-2-2-2zM9 17H7v-7h2v7zm4 0h-2V7h2v10zm4 0h-2v-4h2v4z\"/>\n",
              "    </g>\n",
              "</svg>\n",
              "      </button>\n",
              "    </div>\n",
              "\n",
              "<style>\n",
              "  .colab-df-quickchart {\n",
              "    background-color: #E8F0FE;\n",
              "    border: none;\n",
              "    border-radius: 50%;\n",
              "    cursor: pointer;\n",
              "    display: none;\n",
              "    fill: #1967D2;\n",
              "    height: 32px;\n",
              "    padding: 0 0 0 0;\n",
              "    width: 32px;\n",
              "  }\n",
              "\n",
              "  .colab-df-quickchart:hover {\n",
              "    background-color: #E2EBFA;\n",
              "    box-shadow: 0px 1px 2px rgba(60, 64, 67, 0.3), 0px 1px 3px 1px rgba(60, 64, 67, 0.15);\n",
              "    fill: #174EA6;\n",
              "  }\n",
              "\n",
              "  [theme=dark] .colab-df-quickchart {\n",
              "    background-color: #3B4455;\n",
              "    fill: #D2E3FC;\n",
              "  }\n",
              "\n",
              "  [theme=dark] .colab-df-quickchart:hover {\n",
              "    background-color: #434B5C;\n",
              "    box-shadow: 0px 1px 3px 1px rgba(0, 0, 0, 0.15);\n",
              "    filter: drop-shadow(0px 1px 2px rgba(0, 0, 0, 0.3));\n",
              "    fill: #FFFFFF;\n",
              "  }\n",
              "</style>\n",
              "\n",
              "    <script>\n",
              "      async function quickchart(key) {\n",
              "        const containerElement = document.querySelector('#' + key);\n",
              "        const charts = await google.colab.kernel.invokeFunction(\n",
              "            'suggestCharts', [key], {});\n",
              "      }\n",
              "    </script>\n",
              "\n",
              "      <script>\n",
              "\n",
              "function displayQuickchartButton(domScope) {\n",
              "  let quickchartButtonEl =\n",
              "    domScope.querySelector('#df-673da72d-3c48-49ab-ab76-8ac5101f4107 button.colab-df-quickchart');\n",
              "  quickchartButtonEl.style.display =\n",
              "    google.colab.kernel.accessAllowed ? 'block' : 'none';\n",
              "}\n",
              "\n",
              "        displayQuickchartButton(document);\n",
              "      </script>\n",
              "      <style>\n",
              "    .colab-df-container {\n",
              "      display:flex;\n",
              "      flex-wrap:wrap;\n",
              "      gap: 12px;\n",
              "    }\n",
              "\n",
              "    .colab-df-convert {\n",
              "      background-color: #E8F0FE;\n",
              "      border: none;\n",
              "      border-radius: 50%;\n",
              "      cursor: pointer;\n",
              "      display: none;\n",
              "      fill: #1967D2;\n",
              "      height: 32px;\n",
              "      padding: 0 0 0 0;\n",
              "      width: 32px;\n",
              "    }\n",
              "\n",
              "    .colab-df-convert:hover {\n",
              "      background-color: #E2EBFA;\n",
              "      box-shadow: 0px 1px 2px rgba(60, 64, 67, 0.3), 0px 1px 3px 1px rgba(60, 64, 67, 0.15);\n",
              "      fill: #174EA6;\n",
              "    }\n",
              "\n",
              "    [theme=dark] .colab-df-convert {\n",
              "      background-color: #3B4455;\n",
              "      fill: #D2E3FC;\n",
              "    }\n",
              "\n",
              "    [theme=dark] .colab-df-convert:hover {\n",
              "      background-color: #434B5C;\n",
              "      box-shadow: 0px 1px 3px 1px rgba(0, 0, 0, 0.15);\n",
              "      filter: drop-shadow(0px 1px 2px rgba(0, 0, 0, 0.3));\n",
              "      fill: #FFFFFF;\n",
              "    }\n",
              "  </style>\n",
              "\n",
              "      <script>\n",
              "        const buttonEl =\n",
              "          document.querySelector('#df-7c9bca18-bf4d-415e-a859-0e5cde23f721 button.colab-df-convert');\n",
              "        buttonEl.style.display =\n",
              "          google.colab.kernel.accessAllowed ? 'block' : 'none';\n",
              "\n",
              "        async function convertToInteractive(key) {\n",
              "          const element = document.querySelector('#df-7c9bca18-bf4d-415e-a859-0e5cde23f721');\n",
              "          const dataTable =\n",
              "            await google.colab.kernel.invokeFunction('convertToInteractive',\n",
              "                                                     [key], {});\n",
              "          if (!dataTable) return;\n",
              "\n",
              "          const docLinkHtml = 'Like what you see? Visit the ' +\n",
              "            '<a target=\"_blank\" href=https://colab.research.google.com/notebooks/data_table.ipynb>data table notebook</a>'\n",
              "            + ' to learn more about interactive tables.';\n",
              "          element.innerHTML = '';\n",
              "          dataTable['output_type'] = 'display_data';\n",
              "          await google.colab.output.renderOutput(dataTable, element);\n",
              "          const docLink = document.createElement('div');\n",
              "          docLink.innerHTML = docLinkHtml;\n",
              "          element.appendChild(docLink);\n",
              "        }\n",
              "      </script>\n",
              "    </div>\n",
              "  </div>\n"
            ]
          },
          "metadata": {},
          "execution_count": 4
        }
      ]
    },
    {
      "cell_type": "markdown",
      "source": [
        "### Dataset Rows & Columns count"
      ],
      "metadata": {
        "id": "7hBIi_osiCS2"
      }
    },
    {
      "cell_type": "code",
      "source": [
        "# Dataset Rows & Columns count\n",
        "df.shape"
      ],
      "metadata": {
        "id": "Kllu7SJgmLij",
        "colab": {
          "base_uri": "https://localhost:8080/"
        },
        "outputId": "61640641-70f7-46f1-f220-cd05f5d006bc"
      },
      "execution_count": 5,
      "outputs": [
        {
          "output_type": "execute_result",
          "data": {
            "text/plain": [
              "(8760, 14)"
            ]
          },
          "metadata": {},
          "execution_count": 5
        }
      ]
    },
    {
      "cell_type": "markdown",
      "source": [
        "### Dataset Information"
      ],
      "metadata": {
        "id": "JlHwYmJAmNHm"
      }
    },
    {
      "cell_type": "code",
      "source": [
        "# Dataset Info\n",
        "df.info()"
      ],
      "metadata": {
        "id": "e9hRXRi6meOf",
        "colab": {
          "base_uri": "https://localhost:8080/"
        },
        "outputId": "e75c8163-5140-40c0-bcb0-034f32584f0d"
      },
      "execution_count": 6,
      "outputs": [
        {
          "output_type": "stream",
          "name": "stdout",
          "text": [
            "<class 'pandas.core.frame.DataFrame'>\n",
            "RangeIndex: 8760 entries, 0 to 8759\n",
            "Data columns (total 14 columns):\n",
            " #   Column                     Non-Null Count  Dtype  \n",
            "---  ------                     --------------  -----  \n",
            " 0   Date                       8760 non-null   object \n",
            " 1   Rented Bike Count          8760 non-null   int64  \n",
            " 2   Hour                       8760 non-null   int64  \n",
            " 3   Temperature(°C)            8760 non-null   float64\n",
            " 4   Humidity(%)                8760 non-null   int64  \n",
            " 5   Wind speed (m/s)           8760 non-null   float64\n",
            " 6   Visibility (10m)           8760 non-null   int64  \n",
            " 7   Dew point temperature(°C)  8760 non-null   float64\n",
            " 8   Solar Radiation (MJ/m2)    8760 non-null   float64\n",
            " 9   Rainfall(mm)               8760 non-null   float64\n",
            " 10  Snowfall (cm)              8760 non-null   float64\n",
            " 11  Seasons                    8760 non-null   object \n",
            " 12  Holiday                    8760 non-null   object \n",
            " 13  Functioning Day            8760 non-null   object \n",
            "dtypes: float64(6), int64(4), object(4)\n",
            "memory usage: 958.2+ KB\n"
          ]
        }
      ]
    },
    {
      "cell_type": "markdown",
      "source": [
        "#### Duplicate Values"
      ],
      "metadata": {
        "id": "35m5QtbWiB9F"
      }
    },
    {
      "cell_type": "code",
      "source": [
        "# Dataset Duplicate Value Count\n",
        "len(df[df.duplicated()])"
      ],
      "metadata": {
        "id": "1sLdpKYkmox0",
        "colab": {
          "base_uri": "https://localhost:8080/"
        },
        "outputId": "93058961-4980-45c1-8bdf-0fe8562813e9"
      },
      "execution_count": 7,
      "outputs": [
        {
          "output_type": "execute_result",
          "data": {
            "text/plain": [
              "0"
            ]
          },
          "metadata": {},
          "execution_count": 7
        }
      ]
    },
    {
      "cell_type": "markdown",
      "source": [
        "#### Missing Values/Null Values"
      ],
      "metadata": {
        "id": "PoPl-ycgm1ru"
      }
    },
    {
      "cell_type": "code",
      "source": [
        "# Missing Values/Null Values Count\n",
        "df.isnull().sum()"
      ],
      "metadata": {
        "id": "GgHWkxvamxVg",
        "colab": {
          "base_uri": "https://localhost:8080/"
        },
        "outputId": "50b22f87-4e1a-4067-a042-6b335181a942"
      },
      "execution_count": 8,
      "outputs": [
        {
          "output_type": "execute_result",
          "data": {
            "text/plain": [
              "Date                         0\n",
              "Rented Bike Count            0\n",
              "Hour                         0\n",
              "Temperature(°C)              0\n",
              "Humidity(%)                  0\n",
              "Wind speed (m/s)             0\n",
              "Visibility (10m)             0\n",
              "Dew point temperature(°C)    0\n",
              "Solar Radiation (MJ/m2)      0\n",
              "Rainfall(mm)                 0\n",
              "Snowfall (cm)                0\n",
              "Seasons                      0\n",
              "Holiday                      0\n",
              "Functioning Day              0\n",
              "dtype: int64"
            ]
          },
          "metadata": {},
          "execution_count": 8
        }
      ]
    },
    {
      "cell_type": "code",
      "source": [
        "# Visualizing the missing values\n",
        "sns.heatmap(df.isnull(),cbar= False)"
      ],
      "metadata": {
        "id": "3q5wnI3om9sJ",
        "colab": {
          "base_uri": "https://localhost:8080/",
          "height": 0
        },
        "outputId": "89744f67-887c-4d9b-e301-d4af2bf46ac6"
      },
      "execution_count": 9,
      "outputs": [
        {
          "output_type": "execute_result",
          "data": {
            "text/plain": [
              "<Axes: >"
            ]
          },
          "metadata": {},
          "execution_count": 9
        },
        {
          "output_type": "display_data",
          "data": {
            "text/plain": [
              "<Figure size 640x480 with 1 Axes>"
            ],
            "image/png": "[encoded data removed]"
          },
          "metadata": {}
        }
      ]
    },
    {
      "cell_type": "markdown",
      "source": [
        "### What did you know about your dataset?"
      ],
      "metadata": {
        "id": "H0kj-8xxnORC"
      }
    },
    {
      "cell_type": "markdown",
      "source": [
        "The Shape of the data is 8760, 14. There are no null values present in any of the column and also there are no duplicate values.\n",
        "\n",
        "The data is given on per hour basis(row) in which it mentions the date, the number of bikes rented, the temperature, humidity, wind speed, visibility, dew point temperature, solar radiation, rainfall, snowfall, the season, weather it is a holiday, and whether the bike rental service is fuctioning or not."
      ],
      "metadata": {
        "id": "gfoNAAC-nUe_"
      }
    },
    {
      "cell_type": "markdown",
      "source": [
        "## ***2. Understanding Your Variables***"
      ],
      "metadata": {
        "id": "nA9Y7ga8ng1Z"
      }
    },
    {
      "cell_type": "code",
      "source": [
        "# Dataset Columns\n",
        "df.columns"
      ],
      "metadata": {
        "id": "j7xfkqrt5Ag5",
        "colab": {
          "base_uri": "https://localhost:8080/"
        },
        "outputId": "c55cb87a-837a-4de0-f2e9-cd435e98a1c4"
      },
      "execution_count": 10,
      "outputs": [
        {
          "output_type": "execute_result",
          "data": {
            "text/plain": [
              "Index(['Date', 'Rented Bike Count', 'Hour', 'Temperature(°C)', 'Humidity(%)',\n",
              "       'Wind speed (m/s)', 'Visibility (10m)', 'Dew point temperature(°C)',\n",
              "       'Solar Radiation (MJ/m2)', 'Rainfall(mm)', 'Snowfall (cm)', 'Seasons',\n",
              "       'Holiday', 'Functioning Day'],\n",
              "      dtype='object')"
            ]
          },
          "metadata": {},
          "execution_count": 10
        }
      ]
    },
    {
      "cell_type": "code",
      "source": [
        "# Dataset Describe\n",
        "df.describe()"
      ],
      "metadata": {
        "id": "DnOaZdaE5Q5t",
        "colab": {
          "base_uri": "https://localhost:8080/",
          "height": 0
        },
        "outputId": "3bc56330-8565-49ee-9014-18bbb717c393"
      },
      "execution_count": 11,
      "outputs": [
        {
          "output_type": "execute_result",
          "data": {
            "text/plain": [
              "       Rented Bike Count         Hour  Temperature(°C)  Humidity(%)  \\\n",
              "count        8760.000000  8760.000000      8760.000000  8760.000000   \n",
              "mean          704.602055    11.500000        12.882922    58.226256   \n",
              "std           644.997468     6.922582        11.944825    20.362413   \n",
              "min             0.000000     0.000000       -17.800000     0.000000   \n",
              "25%           191.000000     5.750000         3.500000    42.000000   \n",
              "50%           504.500000    11.500000        13.700000    57.000000   \n",
              "75%          1065.250000    17.250000        22.500000    74.000000   \n",
              "max          3556.000000    23.000000        39.400000    98.000000   \n",
              "\n",
              "       Wind speed (m/s)  Visibility (10m)  Dew point temperature(°C)  \\\n",
              "count       8760.000000       8760.000000                8760.000000   \n",
              "mean           1.724909       1436.825799                   4.073813   \n",
              "std            1.036300        608.298712                  13.060369   \n",
              "min            0.000000         27.000000                 -30.600000   \n",
              "25%            0.900000        940.000000                  -4.700000   \n",
              "50%            1.500000       1698.000000                   5.100000   \n",
              "75%            2.300000       2000.000000                  14.800000   \n",
              "max            7.400000       2000.000000                  27.200000   \n",
              "\n",
              "       Solar Radiation (MJ/m2)  Rainfall(mm)  Snowfall (cm)  \n",
              "count              8760.000000   8760.000000    8760.000000  \n",
              "mean                  0.569111      0.148687       0.075068  \n",
              "std                   0.868746      1.128193       0.436746  \n",
              "min                   0.000000      0.000000       0.000000  \n",
              "25%                   0.000000      0.000000       0.000000  \n",
              "50%                   0.010000      0.000000       0.000000  \n",
              "75%                   0.930000      0.000000       0.000000  \n",
              "max                   3.520000     35.000000       8.800000  "
            ],
            "text/html": [
              "\n",
              "\n",
              "  <div id=\"df-819ae11e-dfc3-49c1-bed2-b3e2158117a1\">\n",
              "    <div class=\"colab-df-container\">\n",
              "      <div>\n",
              "<style scoped>\n",
              "    .dataframe tbody tr th:only-of-type {\n",
              "        vertical-align: middle;\n",
              "    }\n",
              "\n",
              "    .dataframe tbody tr th {\n",
              "        vertical-align: top;\n",
              "    }\n",
              "\n",
              "    .dataframe thead th {\n",
              "        text-align: right;\n",
              "    }\n",
              "</style>\n",
              "<table border=\"1\" class=\"dataframe\">\n",
              "  <thead>\n",
              "    <tr style=\"text-align: right;\">\n",
              "      <th></th>\n",
              "      <th>Rented Bike Count</th>\n",
              "      <th>Hour</th>\n",
              "      <th>Temperature(°C)</th>\n",
              "      <th>Humidity(%)</th>\n",
              "      <th>Wind speed (m/s)</th>\n",
              "      <th>Visibility (10m)</th>\n",
              "      <th>Dew point temperature(°C)</th>\n",
              "      <th>Solar Radiation (MJ/m2)</th>\n",
              "      <th>Rainfall(mm)</th>\n",
              "      <th>Snowfall (cm)</th>\n",
              "    </tr>\n",
              "  </thead>\n",
              "  <tbody>\n",
              "    <tr>\n",
              "      <th>count</th>\n",
              "      <td>8760.000000</td>\n",
              "      <td>8760.000000</td>\n",
              "      <td>8760.000000</td>\n",
              "      <td>8760.000000</td>\n",
              "      <td>8760.000000</td>\n",
              "      <td>8760.000000</td>\n",
              "      <td>8760.000000</td>\n",
              "      <td>8760.000000</td>\n",
              "      <td>8760.000000</td>\n",
              "      <td>8760.000000</td>\n",
              "    </tr>\n",
              "    <tr>\n",
              "      <th>mean</th>\n",
              "      <td>704.602055</td>\n",
              "      <td>11.500000</td>\n",
              "      <td>12.882922</td>\n",
              "      <td>58.226256</td>\n",
              "      <td>1.724909</td>\n",
              "      <td>1436.825799</td>\n",
              "      <td>4.073813</td>\n",
              "      <td>0.569111</td>\n",
              "      <td>0.148687</td>\n",
              "      <td>0.075068</td>\n",
              "    </tr>\n",
              "    <tr>\n",
              "      <th>std</th>\n",
              "      <td>644.997468</td>\n",
              "      <td>6.922582</td>\n",
              "      <td>11.944825</td>\n",
              "      <td>20.362413</td>\n",
              "      <td>1.036300</td>\n",
              "      <td>608.298712</td>\n",
              "      <td>13.060369</td>\n",
              "      <td>0.868746</td>\n",
              "      <td>1.128193</td>\n",
              "      <td>0.436746</td>\n",
              "    </tr>\n",
              "    <tr>\n",
              "      <th>min</th>\n",
              "      <td>0.000000</td>\n",
              "      <td>0.000000</td>\n",
              "      <td>-17.800000</td>\n",
              "      <td>0.000000</td>\n",
              "      <td>0.000000</td>\n",
              "      <td>27.000000</td>\n",
              "      <td>-30.600000</td>\n",
              "      <td>0.000000</td>\n",
              "      <td>0.000000</td>\n",
              "      <td>0.000000</td>\n",
              "    </tr>\n",
              "    <tr>\n",
              "      <th>25%</th>\n",
              "      <td>191.000000</td>\n",
              "      <td>5.750000</td>\n",
              "      <td>3.500000</td>\n",
              "      <td>42.000000</td>\n",
              "      <td>0.900000</td>\n",
              "      <td>940.000000</td>\n",
              "      <td>-4.700000</td>\n",
              "      <td>0.000000</td>\n",
              "      <td>0.000000</td>\n",
              "      <td>0.000000</td>\n",
              "    </tr>\n",
              "    <tr>\n",
              "      <th>50%</th>\n",
              "      <td>504.500000</td>\n",
              "      <td>11.500000</td>\n",
              "      <td>13.700000</td>\n",
              "      <td>57.000000</td>\n",
              "      <td>1.500000</td>\n",
              "      <td>1698.000000</td>\n",
              "      <td>5.100000</td>\n",
              "      <td>0.010000</td>\n",
              "      <td>0.000000</td>\n",
              "      <td>0.000000</td>\n",
              "    </tr>\n",
              "    <tr>\n",
              "      <th>75%</th>\n",
              "      <td>1065.250000</td>\n",
              "      <td>17.250000</td>\n",
              "      <td>22.500000</td>\n",
              "      <td>74.000000</td>\n",
              "      <td>2.300000</td>\n",
              "      <td>2000.000000</td>\n",
              "      <td>14.800000</td>\n",
              "      <td>0.930000</td>\n",
              "      <td>0.000000</td>\n",
              "      <td>0.000000</td>\n",
              "    </tr>\n",
              "    <tr>\n",
              "      <th>max</th>\n",
              "      <td>3556.000000</td>\n",
              "      <td>23.000000</td>\n",
              "      <td>39.400000</td>\n",
              "      <td>98.000000</td>\n",
              "      <td>7.400000</td>\n",
              "      <td>2000.000000</td>\n",
              "      <td>27.200000</td>\n",
              "      <td>3.520000</td>\n",
              "      <td>35.000000</td>\n",
              "      <td>8.800000</td>\n",
              "    </tr>\n",
              "  </tbody>\n",
              "</table>\n",
              "</div>\n",
              "      <button class=\"colab-df-convert\" onclick=\"convertToInteractive('df-819ae11e-dfc3-49c1-bed2-b3e2158117a1')\"\n",
              "              title=\"Convert this dataframe to an interactive table.\"\n",
              "              style=\"display:none;\">\n",
              "\n",
              "  <svg xmlns=\"http://www.w3.org/2000/svg\" height=\"24px\"viewBox=\"0 0 24 24\"\n",
              "       width=\"24px\">\n",
              "    <path d=\"M0 0h24v24H0V0z\" fill=\"none\"/>\n",
              "    <path d=\"M18.56 5.44l.94 2.06.94-2.06 2.06-.94-2.06-.94-.94-2.06-.94 2.06-2.06.94zm-11 1L8.5 8.5l.94-2.06 2.06-.94-2.06-.94L8.5 2.5l-.94 2.06-2.06.94zm10 10l.94 2.06.94-2.06 2.06-.94-2.06-.94-.94-2.06-.94 2.06-2.06.94z\"/><path d=\"M17.41 7.96l-1.37-1.37c-.4-.4-.92-.59-1.43-.59-.52 0-1.04.2-1.43.59L10.3 9.45l-7.72 7.72c-.78.78-.78 2.05 0 2.83L4 21.41c.39.39.9.59 1.41.59.51 0 1.02-.2 1.41-.59l7.78-7.78 2.81-2.81c.8-.78.8-2.07 0-2.86zM5.41 20L4 18.59l7.72-7.72 1.47 1.35L5.41 20z\"/>\n",
              "  </svg>\n",
              "      </button>\n",
              "\n",
              "\n",
              "\n",
              "    <div id=\"df-bb298518-b29c-4c5e-8c47-bd33237a957b\">\n",
              "      <button class=\"colab-df-quickchart\" onclick=\"quickchart('df-bb298518-b29c-4c5e-8c47-bd33237a957b')\"\n",
              "              title=\"Suggest charts.\"\n",
              "              style=\"display:none;\">\n",
              "\n",
              "<svg xmlns=\"http://www.w3.org/2000/svg\" height=\"24px\"viewBox=\"0 0 24 24\"\n",
              "     width=\"24px\">\n",
              "    <g>\n",
              "        <path d=\"M19 3H5c-1.1 0-2 .9-2 2v14c0 1.1.9 2 2 2h14c1.1 0 2-.9 2-2V5c0-1.1-.9-2-2-2zM9 17H7v-7h2v7zm4 0h-2V7h2v10zm4 0h-2v-4h2v4z\"/>\n",
              "    </g>\n",
              "</svg>\n",
              "      </button>\n",
              "    </div>\n",
              "\n",
              "<style>\n",
              "  .colab-df-quickchart {\n",
              "    background-color: #E8F0FE;\n",
              "    border: none;\n",
              "    border-radius: 50%;\n",
              "    cursor: pointer;\n",
              "    display: none;\n",
              "    fill: #1967D2;\n",
              "    height: 32px;\n",
              "    padding: 0 0 0 0;\n",
              "    width: 32px;\n",
              "  }\n",
              "\n",
              "  .colab-df-quickchart:hover {\n",
              "    background-color: #E2EBFA;\n",
              "    box-shadow: 0px 1px 2px rgba(60, 64, 67, 0.3), 0px 1px 3px 1px rgba(60, 64, 67, 0.15);\n",
              "    fill: #174EA6;\n",
              "  }\n",
              "\n",
              "  [theme=dark] .colab-df-quickchart {\n",
              "    background-color: #3B4455;\n",
              "    fill: #D2E3FC;\n",
              "  }\n",
              "\n",
              "  [theme=dark] .colab-df-quickchart:hover {\n",
              "    background-color: #434B5C;\n",
              "    box-shadow: 0px 1px 3px 1px rgba(0, 0, 0, 0.15);\n",
              "    filter: drop-shadow(0px 1px 2px rgba(0, 0, 0, 0.3));\n",
              "    fill: #FFFFFF;\n",
              "  }\n",
              "</style>\n",
              "\n",
              "    <script>\n",
              "      async function quickchart(key) {\n",
              "        const containerElement = document.querySelector('#' + key);\n",
              "        const charts = await google.colab.kernel.invokeFunction(\n",
              "            'suggestCharts', [key], {});\n",
              "      }\n",
              "    </script>\n",
              "\n",
              "      <script>\n",
              "\n",
              "function displayQuickchartButton(domScope) {\n",
              "  let quickchartButtonEl =\n",
              "    domScope.querySelector('#df-bb298518-b29c-4c5e-8c47-bd33237a957b button.colab-df-quickchart');\n",
              "  quickchartButtonEl.style.display =\n",
              "    google.colab.kernel.accessAllowed ? 'block' : 'none';\n",
              "}\n",
              "\n",
              "        displayQuickchartButton(document);\n",
              "      </script>\n",
              "      <style>\n",
              "    .colab-df-container {\n",
              "      display:flex;\n",
              "      flex-wrap:wrap;\n",
              "      gap: 12px;\n",
              "    }\n",
              "\n",
              "    .colab-df-convert {\n",
              "      background-color: #E8F0FE;\n",
              "      border: none;\n",
              "      border-radius: 50%;\n",
              "      cursor: pointer;\n",
              "      display: none;\n",
              "      fill: #1967D2;\n",
              "      height: 32px;\n",
              "      padding: 0 0 0 0;\n",
              "      width: 32px;\n",
              "    }\n",
              "\n",
              "    .colab-df-convert:hover {\n",
              "      background-color: #E2EBFA;\n",
              "      box-shadow: 0px 1px 2px rgba(60, 64, 67, 0.3), 0px 1px 3px 1px rgba(60, 64, 67, 0.15);\n",
              "      fill: #174EA6;\n",
              "    }\n",
              "\n",
              "    [theme=dark] .colab-df-convert {\n",
              "      background-color: #3B4455;\n",
              "      fill: #D2E3FC;\n",
              "    }\n",
              "\n",
              "    [theme=dark] .colab-df-convert:hover {\n",
              "      background-color: #434B5C;\n",
              "      box-shadow: 0px 1px 3px 1px rgba(0, 0, 0, 0.15);\n",
              "      filter: drop-shadow(0px 1px 2px rgba(0, 0, 0, 0.3));\n",
              "      fill: #FFFFFF;\n",
              "    }\n",
              "  </style>\n",
              "\n",
              "      <script>\n",
              "        const buttonEl =\n",
              "          document.querySelector('#df-819ae11e-dfc3-49c1-bed2-b3e2158117a1 button.colab-df-convert');\n",
              "        buttonEl.style.display =\n",
              "          google.colab.kernel.accessAllowed ? 'block' : 'none';\n",
              "\n",
              "        async function convertToInteractive(key) {\n",
              "          const element = document.querySelector('#df-819ae11e-dfc3-49c1-bed2-b3e2158117a1');\n",
              "          const dataTable =\n",
              "            await google.colab.kernel.invokeFunction('convertToInteractive',\n",
              "                                                     [key], {});\n",
              "          if (!dataTable) return;\n",
              "\n",
              "          const docLinkHtml = 'Like what you see? Visit the ' +\n",
              "            '<a target=\"_blank\" href=https://colab.research.google.com/notebooks/data_table.ipynb>data table notebook</a>'\n",
              "            + ' to learn more about interactive tables.';\n",
              "          element.innerHTML = '';\n",
              "          dataTable['output_type'] = 'display_data';\n",
              "          await google.colab.output.renderOutput(dataTable, element);\n",
              "          const docLink = document.createElement('div');\n",
              "          docLink.innerHTML = docLinkHtml;\n",
              "          element.appendChild(docLink);\n",
              "        }\n",
              "      </script>\n",
              "    </div>\n",
              "  </div>\n"
            ]
          },
          "metadata": {},
          "execution_count": 11
        }
      ]
    },
    {
      "cell_type": "markdown",
      "source": [
        "### Variables Description"
      ],
      "metadata": {
        "id": "PBTbrJXOngz2"
      }
    },
    {
      "cell_type": "markdown",
      "source": [
        "## **Seoul Bike Data**\n",
        "\n",
        "* **Date:** Date of the day\n",
        "* **Rented Bike Count:** Number of bikes rented in that hour\n",
        "* **Hour:** Hour of that day\n",
        "* **Temperature(°C):** Temperature in that hour of the day\n",
        "* **Humidity(%):** Humidity in that hour of the day\n",
        "* **Wind Speed(m/s):** Wind speed in that hour of the day\n",
        "* **Visibility(10m):** Visibility in 10 meters\n",
        "* **Dew Point Temperature(°C):** The temperature at which the condensation starts to occur\n",
        "* **Solar Radiation(MJ/m2):** Amount of radiation from sun in Mega Joules per meter square\n",
        "* **RainFall(mm):** Rainfall in that hour of the day in millimeters\n",
        "* **Snowfall(cm):** Snowfall in that hour in centimeters\n",
        "* **Seasons:** Season of that day\n",
        "* **Holiday:** Whether that day is a holiday\n",
        "* **Functioning Day:** Whether the rental bike service functioning on that day"
      ],
      "metadata": {
        "id": "aJV4KIxSnxay"
      }
    },
    {
      "cell_type": "markdown",
      "source": [
        "### Check Unique Values for each variable."
      ],
      "metadata": {
        "id": "u3PMJOP6ngxN"
      }
    },
    {
      "cell_type": "code",
      "source": [
        "# Check Unique Values for each variable.\n",
        "for col in df:\n",
        "  print()\n",
        "  print(f'The column {col} has {df[col].nunique()} unique values')"
      ],
      "metadata": {
        "id": "zms12Yq5n-jE",
        "colab": {
          "base_uri": "https://localhost:8080/"
        },
        "outputId": "a3ef8ddc-2256-4832-d05b-448295b3a3d5"
      },
      "execution_count": 12,
      "outputs": [
        {
          "output_type": "stream",
          "name": "stdout",
          "text": [
            "\n",
            "The column Date has 365 unique values\n",
            "\n",
            "The column Rented Bike Count has 2166 unique values\n",
            "\n",
            "The column Hour has 24 unique values\n",
            "\n",
            "The column Temperature(°C) has 546 unique values\n",
            "\n",
            "The column Humidity(%) has 90 unique values\n",
            "\n",
            "The column Wind speed (m/s) has 65 unique values\n",
            "\n",
            "The column Visibility (10m) has 1789 unique values\n",
            "\n",
            "The column Dew point temperature(°C) has 556 unique values\n",
            "\n",
            "The column Solar Radiation (MJ/m2) has 345 unique values\n",
            "\n",
            "The column Rainfall(mm) has 61 unique values\n",
            "\n",
            "The column Snowfall (cm) has 51 unique values\n",
            "\n",
            "The column Seasons has 4 unique values\n",
            "\n",
            "The column Holiday has 2 unique values\n",
            "\n",
            "The column Functioning Day has 2 unique values\n"
          ]
        }
      ]
    },
    {
      "cell_type": "markdown",
      "source": [
        "## 3. ***Data Wrangling***"
      ],
      "metadata": {
        "id": "dauF4eBmngu3"
      }
    },
    {
      "cell_type": "markdown",
      "source": [
        "### Data Wrangling Code"
      ],
      "metadata": {
        "id": "bKJF3rekwFvQ"
      }
    },
    {
      "cell_type": "code",
      "source": [
        "# Write your code to make your dataset analysis ready.\n",
        "# peak hour average count in the entire year\n",
        "df.groupby('Hour').agg({'Rented Bike Count':'mean'}).sort_values(by='Rented Bike Count',ascending=False)"
      ],
      "metadata": {
        "id": "wk-9a2fpoLcV",
        "colab": {
          "base_uri": "https://localhost:8080/",
          "height": 833
        },
        "outputId": "1cb05685-e357-45d6-d7f2-02dbd0173f7e"
      },
      "execution_count": 13,
      "outputs": [
        {
          "output_type": "execute_result",
          "data": {
            "text/plain": [
              "      Rented Bike Count\n",
              "Hour                   \n",
              "18          1502.926027\n",
              "19          1195.147945\n",
              "17          1138.509589\n",
              "20          1068.964384\n",
              "21          1031.449315\n",
              "8           1015.701370\n",
              "16           930.621918\n",
              "22           922.797260\n",
              "15           829.186301\n",
              "14           758.824658\n",
              "13           733.246575\n",
              "12           699.441096\n",
              "23           671.126027\n",
              "9            645.983562\n",
              "7            606.005479\n",
              "11           600.852055\n",
              "0            541.460274\n",
              "10           527.821918\n",
              "1            426.183562\n",
              "2            301.630137\n",
              "6            287.564384\n",
              "3            203.331507\n",
              "5            139.082192\n",
              "4            132.591781"
            ],
            "text/html": [
              "\n",
              "\n",
              "  <div id=\"df-708c3315-4971-4960-bb0a-1c1a600e2f4a\">\n",
              "    <div class=\"colab-df-container\">\n",
              "      <div>\n",
              "<style scoped>\n",
              "    .dataframe tbody tr th:only-of-type {\n",
              "        vertical-align: middle;\n",
              "    }\n",
              "\n",
              "    .dataframe tbody tr th {\n",
              "        vertical-align: top;\n",
              "    }\n",
              "\n",
              "    .dataframe thead th {\n",
              "        text-align: right;\n",
              "    }\n",
              "</style>\n",
              "<table border=\"1\" class=\"dataframe\">\n",
              "  <thead>\n",
              "    <tr style=\"text-align: right;\">\n",
              "      <th></th>\n",
              "      <th>Rented Bike Count</th>\n",
              "    </tr>\n",
              "    <tr>\n",
              "      <th>Hour</th>\n",
              "      <th></th>\n",
              "    </tr>\n",
              "  </thead>\n",
              "  <tbody>\n",
              "    <tr>\n",
              "      <th>18</th>\n",
              "      <td>1502.926027</td>\n",
              "    </tr>\n",
              "    <tr>\n",
              "      <th>19</th>\n",
              "      <td>1195.147945</td>\n",
              "    </tr>\n",
              "    <tr>\n",
              "      <th>17</th>\n",
              "      <td>1138.509589</td>\n",
              "    </tr>\n",
              "    <tr>\n",
              "      <th>20</th>\n",
              "      <td>1068.964384</td>\n",
              "    </tr>\n",
              "    <tr>\n",
              "      <th>21</th>\n",
              "      <td>1031.449315</td>\n",
              "    </tr>\n",
              "    <tr>\n",
              "      <th>8</th>\n",
              "      <td>1015.701370</td>\n",
              "    </tr>\n",
              "    <tr>\n",
              "      <th>16</th>\n",
              "      <td>930.621918</td>\n",
              "    </tr>\n",
              "    <tr>\n",
              "      <th>22</th>\n",
              "      <td>922.797260</td>\n",
              "    </tr>\n",
              "    <tr>\n",
              "      <th>15</th>\n",
              "      <td>829.186301</td>\n",
              "    </tr>\n",
              "    <tr>\n",
              "      <th>14</th>\n",
              "      <td>758.824658</td>\n",
              "    </tr>\n",
              "    <tr>\n",
              "      <th>13</th>\n",
              "      <td>733.246575</td>\n",
              "    </tr>\n",
              "    <tr>\n",
              "      <th>12</th>\n",
              "      <td>699.441096</td>\n",
              "    </tr>\n",
              "    <tr>\n",
              "      <th>23</th>\n",
              "      <td>671.126027</td>\n",
              "    </tr>\n",
              "    <tr>\n",
              "      <th>9</th>\n",
              "      <td>645.983562</td>\n",
              "    </tr>\n",
              "    <tr>\n",
              "      <th>7</th>\n",
              "      <td>606.005479</td>\n",
              "    </tr>\n",
              "    <tr>\n",
              "      <th>11</th>\n",
              "      <td>600.852055</td>\n",
              "    </tr>\n",
              "    <tr>\n",
              "      <th>0</th>\n",
              "      <td>541.460274</td>\n",
              "    </tr>\n",
              "    <tr>\n",
              "      <th>10</th>\n",
              "      <td>527.821918</td>\n",
              "    </tr>\n",
              "    <tr>\n",
              "      <th>1</th>\n",
              "      <td>426.183562</td>\n",
              "    </tr>\n",
              "    <tr>\n",
              "      <th>2</th>\n",
              "      <td>301.630137</td>\n",
              "    </tr>\n",
              "    <tr>\n",
              "      <th>6</th>\n",
              "      <td>287.564384</td>\n",
              "    </tr>\n",
              "    <tr>\n",
              "      <th>3</th>\n",
              "      <td>203.331507</td>\n",
              "    </tr>\n",
              "    <tr>\n",
              "      <th>5</th>\n",
              "      <td>139.082192</td>\n",
              "    </tr>\n",
              "    <tr>\n",
              "      <th>4</th>\n",
              "      <td>132.591781</td>\n",
              "    </tr>\n",
              "  </tbody>\n",
              "</table>\n",
              "</div>\n",
              "      <button class=\"colab-df-convert\" onclick=\"convertToInteractive('df-708c3315-4971-4960-bb0a-1c1a600e2f4a')\"\n",
              "              title=\"Convert this dataframe to an interactive table.\"\n",
              "              style=\"display:none;\">\n",
              "\n",
              "  <svg xmlns=\"http://www.w3.org/2000/svg\" height=\"24px\"viewBox=\"0 0 24 24\"\n",
              "       width=\"24px\">\n",
              "    <path d=\"M0 0h24v24H0V0z\" fill=\"none\"/>\n",
              "    <path d=\"M18.56 5.44l.94 2.06.94-2.06 2.06-.94-2.06-.94-.94-2.06-.94 2.06-2.06.94zm-11 1L8.5 8.5l.94-2.06 2.06-.94-2.06-.94L8.5 2.5l-.94 2.06-2.06.94zm10 10l.94 2.06.94-2.06 2.06-.94-2.06-.94-.94-2.06-.94 2.06-2.06.94z\"/><path d=\"M17.41 7.96l-1.37-1.37c-.4-.4-.92-.59-1.43-.59-.52 0-1.04.2-1.43.59L10.3 9.45l-7.72 7.72c-.78.78-.78 2.05 0 2.83L4 21.41c.39.39.9.59 1.41.59.51 0 1.02-.2 1.41-.59l7.78-7.78 2.81-2.81c.8-.78.8-2.07 0-2.86zM5.41 20L4 18.59l7.72-7.72 1.47 1.35L5.41 20z\"/>\n",
              "  </svg>\n",
              "      </button>\n",
              "\n",
              "\n",
              "\n",
              "    <div id=\"df-7aa771ba-8ecd-4f64-a347-f93dfb6b17ff\">\n",
              "      <button class=\"colab-df-quickchart\" onclick=\"quickchart('df-7aa771ba-8ecd-4f64-a347-f93dfb6b17ff')\"\n",
              "              title=\"Suggest charts.\"\n",
              "              style=\"display:none;\">\n",
              "\n",
              "<svg xmlns=\"http://www.w3.org/2000/svg\" height=\"24px\"viewBox=\"0 0 24 24\"\n",
              "     width=\"24px\">\n",
              "    <g>\n",
              "        <path d=\"M19 3H5c-1.1 0-2 .9-2 2v14c0 1.1.9 2 2 2h14c1.1 0 2-.9 2-2V5c0-1.1-.9-2-2-2zM9 17H7v-7h2v7zm4 0h-2V7h2v10zm4 0h-2v-4h2v4z\"/>\n",
              "    </g>\n",
              "</svg>\n",
              "      </button>\n",
              "    </div>\n",
              "\n",
              "<style>\n",
              "  .colab-df-quickchart {\n",
              "    background-color: #E8F0FE;\n",
              "    border: none;\n",
              "    border-radius: 50%;\n",
              "    cursor: pointer;\n",
              "    display: none;\n",
              "    fill: #1967D2;\n",
              "    height: 32px;\n",
              "    padding: 0 0 0 0;\n",
              "    width: 32px;\n",
              "  }\n",
              "\n",
              "  .colab-df-quickchart:hover {\n",
              "    background-color: #E2EBFA;\n",
              "    box-shadow: 0px 1px 2px rgba(60, 64, 67, 0.3), 0px 1px 3px 1px rgba(60, 64, 67, 0.15);\n",
              "    fill: #174EA6;\n",
              "  }\n",
              "\n",
              "  [theme=dark] .colab-df-quickchart {\n",
              "    background-color: #3B4455;\n",
              "    fill: #D2E3FC;\n",
              "  }\n",
              "\n",
              "  [theme=dark] .colab-df-quickchart:hover {\n",
              "    background-color: #434B5C;\n",
              "    box-shadow: 0px 1px 3px 1px rgba(0, 0, 0, 0.15);\n",
              "    filter: drop-shadow(0px 1px 2px rgba(0, 0, 0, 0.3));\n",
              "    fill: #FFFFFF;\n",
              "  }\n",
              "</style>\n",
              "\n",
              "    <script>\n",
              "      async function quickchart(key) {\n",
              "        const containerElement = document.querySelector('#' + key);\n",
              "        const charts = await google.colab.kernel.invokeFunction(\n",
              "            'suggestCharts', [key], {});\n",
              "      }\n",
              "    </script>\n",
              "\n",
              "      <script>\n",
              "\n",
              "function displayQuickchartButton(domScope) {\n",
              "  let quickchartButtonEl =\n",
              "    domScope.querySelector('#df-7aa771ba-8ecd-4f64-a347-f93dfb6b17ff button.colab-df-quickchart');\n",
              "  quickchartButtonEl.style.display =\n",
              "    google.colab.kernel.accessAllowed ? 'block' : 'none';\n",
              "}\n",
              "\n",
              "        displayQuickchartButton(document);\n",
              "      </script>\n",
              "      <style>\n",
              "    .colab-df-container {\n",
              "      display:flex;\n",
              "      flex-wrap:wrap;\n",
              "      gap: 12px;\n",
              "    }\n",
              "\n",
              "    .colab-df-convert {\n",
              "      background-color: #E8F0FE;\n",
              "      border: none;\n",
              "      border-radius: 50%;\n",
              "      cursor: pointer;\n",
              "      display: none;\n",
              "      fill: #1967D2;\n",
              "      height: 32px;\n",
              "      padding: 0 0 0 0;\n",
              "      width: 32px;\n",
              "    }\n",
              "\n",
              "    .colab-df-convert:hover {\n",
              "      background-color: #E2EBFA;\n",
              "      box-shadow: 0px 1px 2px rgba(60, 64, 67, 0.3), 0px 1px 3px 1px rgba(60, 64, 67, 0.15);\n",
              "      fill: #174EA6;\n",
              "    }\n",
              "\n",
              "    [theme=dark] .colab-df-convert {\n",
              "      background-color: #3B4455;\n",
              "      fill: #D2E3FC;\n",
              "    }\n",
              "\n",
              "    [theme=dark] .colab-df-convert:hover {\n",
              "      background-color: #434B5C;\n",
              "      box-shadow: 0px 1px 3px 1px rgba(0, 0, 0, 0.15);\n",
              "      filter: drop-shadow(0px 1px 2px rgba(0, 0, 0, 0.3));\n",
              "      fill: #FFFFFF;\n",
              "    }\n",
              "  </style>\n",
              "\n",
              "      <script>\n",
              "        const buttonEl =\n",
              "          document.querySelector('#df-708c3315-4971-4960-bb0a-1c1a600e2f4a button.colab-df-convert');\n",
              "        buttonEl.style.display =\n",
              "          google.colab.kernel.accessAllowed ? 'block' : 'none';\n",
              "\n",
              "        async function convertToInteractive(key) {\n",
              "          const element = document.querySelector('#df-708c3315-4971-4960-bb0a-1c1a600e2f4a');\n",
              "          const dataTable =\n",
              "            await google.colab.kernel.invokeFunction('convertToInteractive',\n",
              "                                                     [key], {});\n",
              "          if (!dataTable) return;\n",
              "\n",
              "          const docLinkHtml = 'Like what you see? Visit the ' +\n",
              "            '<a target=\"_blank\" href=https://colab.research.google.com/notebooks/data_table.ipynb>data table notebook</a>'\n",
              "            + ' to learn more about interactive tables.';\n",
              "          element.innerHTML = '';\n",
              "          dataTable['output_type'] = 'display_data';\n",
              "          await google.colab.output.renderOutput(dataTable, element);\n",
              "          const docLink = document.createElement('div');\n",
              "          docLink.innerHTML = docLinkHtml;\n",
              "          element.appendChild(docLink);\n",
              "        }\n",
              "      </script>\n",
              "    </div>\n",
              "  </div>\n"
            ]
          },
          "metadata": {},
          "execution_count": 13
        }
      ]
    },
    {
      "cell_type": "code",
      "source": [
        "# peak hour average Rented Bike count season wise\n",
        "avg_season_wise = df.groupby(['Hour','Seasons']).agg({'Rented Bike Count':'mean'}).sort_values(by='Rented Bike Count',ascending=False).unstack()\n",
        "avg_season_wise"
      ],
      "metadata": {
        "colab": {
          "base_uri": "https://localhost:8080/",
          "height": 864
        },
        "id": "Yzt4Fv3kusPV",
        "outputId": "0f0abdb2-3480-4e3e-d701-95b0f4ee1fbe"
      },
      "execution_count": 14,
      "outputs": [
        {
          "output_type": "execute_result",
          "data": {
            "text/plain": [
              "        Rented Bike Count                                      \n",
              "Seasons            Autumn       Spring       Summer      Winter\n",
              "Hour                                                           \n",
              "0              623.681319   470.630435   899.065217  165.177778\n",
              "1              485.714286   356.032609   698.771739  159.055556\n",
              "2              331.846154   247.467391   505.750000  117.788889\n",
              "3              225.538462   164.815217   342.673913   77.811111\n",
              "4              148.593407   105.869565   223.815217   50.477778\n",
              "5              143.659341   113.652174   245.934783   51.222222\n",
              "6              316.032967   251.641304   485.836957   92.822222\n",
              "7              702.186813   601.913043   902.782609  209.566667\n",
              "8             1197.230769  1013.847826  1418.597826  422.200000\n",
              "9              755.197802   655.815217   911.000000  254.600000\n",
              "10             636.670330   558.478261   723.500000  186.400000\n",
              "11             714.714286   666.652174   786.858696  228.322222\n",
              "12             831.934066   818.195652   875.967391  263.633333\n",
              "13             892.483516   866.826087   890.195652  275.255556\n",
              "14             942.472527   905.543478   894.673913  284.288889\n",
              "15            1029.593407   969.434783  1009.717391  298.644444\n",
              "16            1151.098901  1077.510870  1174.173913  308.577778\n",
              "17            1391.131868  1279.543478  1526.293478  342.511111\n",
              "18            1765.384615  1652.586957  2135.141304  438.300000\n",
              "19            1349.021978  1220.586957  1889.250000  304.033333\n",
              "20            1176.461538  1037.456522  1801.923913  243.233333\n",
              "21            1116.032967   998.923913  1754.065217  240.500000\n",
              "22            1006.010989   877.913043  1567.869565  225.133333\n",
              "23             737.659341   609.413043  1153.902174  173.433333"
            ],
            "text/html": [
              "\n",
              "\n",
              "  <div id=\"df-62d91da4-2b29-480b-b1f2-433628c7653e\">\n",
              "    <div class=\"colab-df-container\">\n",
              "      <div>\n",
              "<style scoped>\n",
              "    .dataframe tbody tr th:only-of-type {\n",
              "        vertical-align: middle;\n",
              "    }\n",
              "\n",
              "    .dataframe tbody tr th {\n",
              "        vertical-align: top;\n",
              "    }\n",
              "\n",
              "    .dataframe thead tr th {\n",
              "        text-align: left;\n",
              "    }\n",
              "\n",
              "    .dataframe thead tr:last-of-type th {\n",
              "        text-align: right;\n",
              "    }\n",
              "</style>\n",
              "<table border=\"1\" class=\"dataframe\">\n",
              "  <thead>\n",
              "    <tr>\n",
              "      <th></th>\n",
              "      <th colspan=\"4\" halign=\"left\">Rented Bike Count</th>\n",
              "    </tr>\n",
              "    <tr>\n",
              "      <th>Seasons</th>\n",
              "      <th>Autumn</th>\n",
              "      <th>Spring</th>\n",
              "      <th>Summer</th>\n",
              "      <th>Winter</th>\n",
              "    </tr>\n",
              "    <tr>\n",
              "      <th>Hour</th>\n",
              "      <th></th>\n",
              "      <th></th>\n",
              "      <th></th>\n",
              "      <th></th>\n",
              "    </tr>\n",
              "  </thead>\n",
              "  <tbody>\n",
              "    <tr>\n",
              "      <th>0</th>\n",
              "      <td>623.681319</td>\n",
              "      <td>470.630435</td>\n",
              "      <td>899.065217</td>\n",
              "      <td>165.177778</td>\n",
              "    </tr>\n",
              "    <tr>\n",
              "      <th>1</th>\n",
              "      <td>485.714286</td>\n",
              "      <td>356.032609</td>\n",
              "      <td>698.771739</td>\n",
              "      <td>159.055556</td>\n",
              "    </tr>\n",
              "    <tr>\n",
              "      <th>2</th>\n",
              "      <td>331.846154</td>\n",
              "      <td>247.467391</td>\n",
              "      <td>505.750000</td>\n",
              "      <td>117.788889</td>\n",
              "    </tr>\n",
              "    <tr>\n",
              "      <th>3</th>\n",
              "      <td>225.538462</td>\n",
              "      <td>164.815217</td>\n",
              "      <td>342.673913</td>\n",
              "      <td>77.811111</td>\n",
              "    </tr>\n",
              "    <tr>\n",
              "      <th>4</th>\n",
              "      <td>148.593407</td>\n",
              "      <td>105.869565</td>\n",
              "      <td>223.815217</td>\n",
              "      <td>50.477778</td>\n",
              "    </tr>\n",
              "    <tr>\n",
              "      <th>5</th>\n",
              "      <td>143.659341</td>\n",
              "      <td>113.652174</td>\n",
              "      <td>245.934783</td>\n",
              "      <td>51.222222</td>\n",
              "    </tr>\n",
              "    <tr>\n",
              "      <th>6</th>\n",
              "      <td>316.032967</td>\n",
              "      <td>251.641304</td>\n",
              "      <td>485.836957</td>\n",
              "      <td>92.822222</td>\n",
              "    </tr>\n",
              "    <tr>\n",
              "      <th>7</th>\n",
              "      <td>702.186813</td>\n",
              "      <td>601.913043</td>\n",
              "      <td>902.782609</td>\n",
              "      <td>209.566667</td>\n",
              "    </tr>\n",
              "    <tr>\n",
              "      <th>8</th>\n",
              "      <td>1197.230769</td>\n",
              "      <td>1013.847826</td>\n",
              "      <td>1418.597826</td>\n",
              "      <td>422.200000</td>\n",
              "    </tr>\n",
              "    <tr>\n",
              "      <th>9</th>\n",
              "      <td>755.197802</td>\n",
              "      <td>655.815217</td>\n",
              "      <td>911.000000</td>\n",
              "      <td>254.600000</td>\n",
              "    </tr>\n",
              "    <tr>\n",
              "      <th>10</th>\n",
              "      <td>636.670330</td>\n",
              "      <td>558.478261</td>\n",
              "      <td>723.500000</td>\n",
              "      <td>186.400000</td>\n",
              "    </tr>\n",
              "    <tr>\n",
              "      <th>11</th>\n",
              "      <td>714.714286</td>\n",
              "      <td>666.652174</td>\n",
              "      <td>786.858696</td>\n",
              "      <td>228.322222</td>\n",
              "    </tr>\n",
              "    <tr>\n",
              "      <th>12</th>\n",
              "      <td>831.934066</td>\n",
              "      <td>818.195652</td>\n",
              "      <td>875.967391</td>\n",
              "      <td>263.633333</td>\n",
              "    </tr>\n",
              "    <tr>\n",
              "      <th>13</th>\n",
              "      <td>892.483516</td>\n",
              "      <td>866.826087</td>\n",
              "      <td>890.195652</td>\n",
              "      <td>275.255556</td>\n",
              "    </tr>\n",
              "    <tr>\n",
              "      <th>14</th>\n",
              "      <td>942.472527</td>\n",
              "      <td>905.543478</td>\n",
              "      <td>894.673913</td>\n",
              "      <td>284.288889</td>\n",
              "    </tr>\n",
              "    <tr>\n",
              "      <th>15</th>\n",
              "      <td>1029.593407</td>\n",
              "      <td>969.434783</td>\n",
              "      <td>1009.717391</td>\n",
              "      <td>298.644444</td>\n",
              "    </tr>\n",
              "    <tr>\n",
              "      <th>16</th>\n",
              "      <td>1151.098901</td>\n",
              "      <td>1077.510870</td>\n",
              "      <td>1174.173913</td>\n",
              "      <td>308.577778</td>\n",
              "    </tr>\n",
              "    <tr>\n",
              "      <th>17</th>\n",
              "      <td>1391.131868</td>\n",
              "      <td>1279.543478</td>\n",
              "      <td>1526.293478</td>\n",
              "      <td>342.511111</td>\n",
              "    </tr>\n",
              "    <tr>\n",
              "      <th>18</th>\n",
              "      <td>1765.384615</td>\n",
              "      <td>1652.586957</td>\n",
              "      <td>2135.141304</td>\n",
              "      <td>438.300000</td>\n",
              "    </tr>\n",
              "    <tr>\n",
              "      <th>19</th>\n",
              "      <td>1349.021978</td>\n",
              "      <td>1220.586957</td>\n",
              "      <td>1889.250000</td>\n",
              "      <td>304.033333</td>\n",
              "    </tr>\n",
              "    <tr>\n",
              "      <th>20</th>\n",
              "      <td>1176.461538</td>\n",
              "      <td>1037.456522</td>\n",
              "      <td>1801.923913</td>\n",
              "      <td>243.233333</td>\n",
              "    </tr>\n",
              "    <tr>\n",
              "      <th>21</th>\n",
              "      <td>1116.032967</td>\n",
              "      <td>998.923913</td>\n",
              "      <td>1754.065217</td>\n",
              "      <td>240.500000</td>\n",
              "    </tr>\n",
              "    <tr>\n",
              "      <th>22</th>\n",
              "      <td>1006.010989</td>\n",
              "      <td>877.913043</td>\n",
              "      <td>1567.869565</td>\n",
              "      <td>225.133333</td>\n",
              "    </tr>\n",
              "    <tr>\n",
              "      <th>23</th>\n",
              "      <td>737.659341</td>\n",
              "      <td>609.413043</td>\n",
              "      <td>1153.902174</td>\n",
              "      <td>173.433333</td>\n",
              "    </tr>\n",
              "  </tbody>\n",
              "</table>\n",
              "</div>\n",
              "      <button class=\"colab-df-convert\" onclick=\"convertToInteractive('df-62d91da4-2b29-480b-b1f2-433628c7653e')\"\n",
              "              title=\"Convert this dataframe to an interactive table.\"\n",
              "              style=\"display:none;\">\n",
              "\n",
              "  <svg xmlns=\"http://www.w3.org/2000/svg\" height=\"24px\"viewBox=\"0 0 24 24\"\n",
              "       width=\"24px\">\n",
              "    <path d=\"M0 0h24v24H0V0z\" fill=\"none\"/>\n",
              "    <path d=\"M18.56 5.44l.94 2.06.94-2.06 2.06-.94-2.06-.94-.94-2.06-.94 2.06-2.06.94zm-11 1L8.5 8.5l.94-2.06 2.06-.94-2.06-.94L8.5 2.5l-.94 2.06-2.06.94zm10 10l.94 2.06.94-2.06 2.06-.94-2.06-.94-.94-2.06-.94 2.06-2.06.94z\"/><path d=\"M17.41 7.96l-1.37-1.37c-.4-.4-.92-.59-1.43-.59-.52 0-1.04.2-1.43.59L10.3 9.45l-7.72 7.72c-.78.78-.78 2.05 0 2.83L4 21.41c.39.39.9.59 1.41.59.51 0 1.02-.2 1.41-.59l7.78-7.78 2.81-2.81c.8-.78.8-2.07 0-2.86zM5.41 20L4 18.59l7.72-7.72 1.47 1.35L5.41 20z\"/>\n",
              "  </svg>\n",
              "      </button>\n",
              "\n",
              "\n",
              "\n",
              "    <div id=\"df-0883d7c3-5676-4b41-96a4-cb99451f116f\">\n",
              "      <button class=\"colab-df-quickchart\" onclick=\"quickchart('df-0883d7c3-5676-4b41-96a4-cb99451f116f')\"\n",
              "              title=\"Suggest charts.\"\n",
              "              style=\"display:none;\">\n",
              "\n",
              "<svg xmlns=\"http://www.w3.org/2000/svg\" height=\"24px\"viewBox=\"0 0 24 24\"\n",
              "     width=\"24px\">\n",
              "    <g>\n",
              "        <path d=\"M19 3H5c-1.1 0-2 .9-2 2v14c0 1.1.9 2 2 2h14c1.1 0 2-.9 2-2V5c0-1.1-.9-2-2-2zM9 17H7v-7h2v7zm4 0h-2V7h2v10zm4 0h-2v-4h2v4z\"/>\n",
              "    </g>\n",
              "</svg>\n",
              "      </button>\n",
              "    </div>\n",
              "\n",
              "<style>\n",
              "  .colab-df-quickchart {\n",
              "    background-color: #E8F0FE;\n",
              "    border: none;\n",
              "    border-radius: 50%;\n",
              "    cursor: pointer;\n",
              "    display: none;\n",
              "    fill: #1967D2;\n",
              "    height: 32px;\n",
              "    padding: 0 0 0 0;\n",
              "    width: 32px;\n",
              "  }\n",
              "\n",
              "  .colab-df-quickchart:hover {\n",
              "    background-color: #E2EBFA;\n",
              "    box-shadow: 0px 1px 2px rgba(60, 64, 67, 0.3), 0px 1px 3px 1px rgba(60, 64, 67, 0.15);\n",
              "    fill: #174EA6;\n",
              "  }\n",
              "\n",
              "  [theme=dark] .colab-df-quickchart {\n",
              "    background-color: #3B4455;\n",
              "    fill: #D2E3FC;\n",
              "  }\n",
              "\n",
              "  [theme=dark] .colab-df-quickchart:hover {\n",
              "    background-color: #434B5C;\n",
              "    box-shadow: 0px 1px 3px 1px rgba(0, 0, 0, 0.15);\n",
              "    filter: drop-shadow(0px 1px 2px rgba(0, 0, 0, 0.3));\n",
              "    fill: #FFFFFF;\n",
              "  }\n",
              "</style>\n",
              "\n",
              "    <script>\n",
              "      async function quickchart(key) {\n",
              "        const containerElement = document.querySelector('#' + key);\n",
              "        const charts = await google.colab.kernel.invokeFunction(\n",
              "            'suggestCharts', [key], {});\n",
              "      }\n",
              "    </script>\n",
              "\n",
              "      <script>\n",
              "\n",
              "function displayQuickchartButton(domScope) {\n",
              "  let quickchartButtonEl =\n",
              "    domScope.querySelector('#df-0883d7c3-5676-4b41-96a4-cb99451f116f button.colab-df-quickchart');\n",
              "  quickchartButtonEl.style.display =\n",
              "    google.colab.kernel.accessAllowed ? 'block' : 'none';\n",
              "}\n",
              "\n",
              "        displayQuickchartButton(document);\n",
              "      </script>\n",
              "      <style>\n",
              "    .colab-df-container {\n",
              "      display:flex;\n",
              "      flex-wrap:wrap;\n",
              "      gap: 12px;\n",
              "    }\n",
              "\n",
              "    .colab-df-convert {\n",
              "      background-color: #E8F0FE;\n",
              "      border: none;\n",
              "      border-radius: 50%;\n",
              "      cursor: pointer;\n",
              "      display: none;\n",
              "      fill: #1967D2;\n",
              "      height: 32px;\n",
              "      padding: 0 0 0 0;\n",
              "      width: 32px;\n",
              "    }\n",
              "\n",
              "    .colab-df-convert:hover {\n",
              "      background-color: #E2EBFA;\n",
              "      box-shadow: 0px 1px 2px rgba(60, 64, 67, 0.3), 0px 1px 3px 1px rgba(60, 64, 67, 0.15);\n",
              "      fill: #174EA6;\n",
              "    }\n",
              "\n",
              "    [theme=dark] .colab-df-convert {\n",
              "      background-color: #3B4455;\n",
              "      fill: #D2E3FC;\n",
              "    }\n",
              "\n",
              "    [theme=dark] .colab-df-convert:hover {\n",
              "      background-color: #434B5C;\n",
              "      box-shadow: 0px 1px 3px 1px rgba(0, 0, 0, 0.15);\n",
              "      filter: drop-shadow(0px 1px 2px rgba(0, 0, 0, 0.3));\n",
              "      fill: #FFFFFF;\n",
              "    }\n",
              "  </style>\n",
              "\n",
              "      <script>\n",
              "        const buttonEl =\n",
              "          document.querySelector('#df-62d91da4-2b29-480b-b1f2-433628c7653e button.colab-df-convert');\n",
              "        buttonEl.style.display =\n",
              "          google.colab.kernel.accessAllowed ? 'block' : 'none';\n",
              "\n",
              "        async function convertToInteractive(key) {\n",
              "          const element = document.querySelector('#df-62d91da4-2b29-480b-b1f2-433628c7653e');\n",
              "          const dataTable =\n",
              "            await google.colab.kernel.invokeFunction('convertToInteractive',\n",
              "                                                     [key], {});\n",
              "          if (!dataTable) return;\n",
              "\n",
              "          const docLinkHtml = 'Like what you see? Visit the ' +\n",
              "            '<a target=\"_blank\" href=https://colab.research.google.com/notebooks/data_table.ipynb>data table notebook</a>'\n",
              "            + ' to learn more about interactive tables.';\n",
              "          element.innerHTML = '';\n",
              "          dataTable['output_type'] = 'display_data';\n",
              "          await google.colab.output.renderOutput(dataTable, element);\n",
              "          const docLink = document.createElement('div');\n",
              "          docLink.innerHTML = docLinkHtml;\n",
              "          element.appendChild(docLink);\n",
              "        }\n",
              "      </script>\n",
              "    </div>\n",
              "  </div>\n"
            ]
          },
          "metadata": {},
          "execution_count": 14
        }
      ]
    },
    {
      "cell_type": "code",
      "source": [
        "# average temperature values season wise\n",
        "avg_temp_season = df.groupby(['Hour','Seasons']).agg({'Temperature(°C)':'mean'}).sort_values(by='Seasons',ascending=False).unstack()\n",
        "print(avg_temp_season)"
      ],
      "metadata": {
        "colab": {
          "base_uri": "https://localhost:8080/"
        },
        "id": "FPF4RPpJzJS0",
        "outputId": "931eef1f-e25b-47ac-e246-7a68596ef259"
      },
      "execution_count": 15,
      "outputs": [
        {
          "output_type": "stream",
          "name": "stdout",
          "text": [
            "        Temperature(°C)                                \n",
            "Seasons          Autumn     Spring     Summer    Winter\n",
            "Hour                                                   \n",
            "0             12.629670  11.064130  24.752174 -3.610000\n",
            "1             12.212088  10.678261  24.385870 -3.891111\n",
            "2             11.808791  10.326087  24.097826 -4.174444\n",
            "3             11.418681  10.011957  23.801087 -4.363333\n",
            "4             11.118681   9.725000  23.520652 -4.564444\n",
            "5             10.831868   9.478261  23.263043 -4.803333\n",
            "6             10.565934   9.285870  23.115217 -5.031111\n",
            "7             10.412088   9.406522  23.441304 -5.248889\n",
            "8             10.831868  10.336957  24.535870 -5.326667\n",
            "9             12.351648  11.785870  25.827174 -4.802222\n",
            "10            14.237363  13.318478  27.060870 -3.314444\n",
            "11            15.862637  14.764130  28.122826 -1.843333\n",
            "12            17.045055  15.932609  29.106522 -0.566667\n",
            "13            17.861538  16.829348  29.783696  0.216667\n",
            "14            18.440659  17.391304  30.234783  0.871111\n",
            "15            18.623077  17.536957  30.490217  1.166667\n",
            "16            18.407692  17.378261  30.488043  0.982222\n",
            "17            17.591209  16.896739  30.055435  0.140000\n",
            "18            16.336264  15.985870  29.377174 -0.835556\n",
            "19            15.374725  14.669565  28.263043 -1.516667\n",
            "20            14.635165  13.557609  27.066304 -2.022222\n",
            "21            14.007692  12.815217  26.278261 -2.436667\n",
            "22            13.408791  12.232609  25.698913 -2.823333\n",
            "23            12.886813  11.713043  25.220652 -3.173333\n"
          ]
        }
      ]
    },
    {
      "cell_type": "code",
      "source": [
        "df['Holiday'].value_counts()"
      ],
      "metadata": {
        "colab": {
          "base_uri": "https://localhost:8080/"
        },
        "id": "9nTOHLWk1lvn",
        "outputId": "feef76c1-07fd-4946-992d-8e13f6cb7d97"
      },
      "execution_count": 16,
      "outputs": [
        {
          "output_type": "execute_result",
          "data": {
            "text/plain": [
              "No Holiday    8328\n",
              "Holiday        432\n",
              "Name: Holiday, dtype: int64"
            ]
          },
          "metadata": {},
          "execution_count": 16
        }
      ]
    },
    {
      "cell_type": "code",
      "source": [
        "df['Functioning Day'].value_counts()"
      ],
      "metadata": {
        "colab": {
          "base_uri": "https://localhost:8080/"
        },
        "id": "MFGp8O7QpoG9",
        "outputId": "f8e3e859-bcea-4467-eceb-0fc939c1ce97"
      },
      "execution_count": 17,
      "outputs": [
        {
          "output_type": "execute_result",
          "data": {
            "text/plain": [
              "Yes    8465\n",
              "No      295\n",
              "Name: Functioning Day, dtype: int64"
            ]
          },
          "metadata": {},
          "execution_count": 17
        }
      ]
    },
    {
      "cell_type": "code",
      "source": [
        "# Checking if bikes were rented when its not a functioning day\n",
        "print(df[df['Functioning Day'] == 'No'].groupby('Seasons').agg({'Rented Bike Count':'sum'}))\n",
        "\n",
        "print('\\n Since there are no bikes rented on NO fucntioning day, it is impossible to predict the bike demand. \\nHence we are going to remove the rows that have NO functioning and also the fucntioning column after that.')"
      ],
      "metadata": {
        "colab": {
          "base_uri": "https://localhost:8080/"
        },
        "id": "QtLCvKTxtafH",
        "outputId": "6ae792af-d8b8-4338-9acc-4ca9aecb26cf"
      },
      "execution_count": 18,
      "outputs": [
        {
          "output_type": "stream",
          "name": "stdout",
          "text": [
            "         Rented Bike Count\n",
            "Seasons                   \n",
            "Autumn                   0\n",
            "Spring                   0\n",
            "\n",
            " Since there are no bikes rented on NO fucntioning day, it is impossible to predict the bike demand. \n",
            "Hence we are going to remove the rows that have NO functioning and also the fucntioning column after that.\n"
          ]
        }
      ]
    },
    {
      "cell_type": "code",
      "source": [
        "warnings.filterwarnings('ignore')\n",
        "mod_df = df[df['Functioning Day'] == 'Yes']\n",
        "\n",
        "print(f'\\n{df.shape[0] - mod_df.shape[0]} rows with NO functioning were removed.')\n"
      ],
      "metadata": {
        "colab": {
          "base_uri": "https://localhost:8080/"
        },
        "id": "DG3RdvaEp2lk",
        "outputId": "ad9cc80d-9c88-4f4f-a967-e5578f4094dd"
      },
      "execution_count": 19,
      "outputs": [
        {
          "output_type": "stream",
          "name": "stdout",
          "text": [
            "\n",
            "295 rows with NO functioning were removed.\n"
          ]
        }
      ]
    },
    {
      "cell_type": "code",
      "source": [
        "mod_df['Date'] = mod_df['Date'].apply(lambda x: datetime.strptime(x,'%d/%m/%Y'))"
      ],
      "metadata": {
        "id": "wou0nJtiIvQC"
      },
      "execution_count": 20,
      "outputs": []
    },
    {
      "cell_type": "markdown",
      "source": [
        "### What all manipulations have you done and insights you found?"
      ],
      "metadata": {
        "id": "MSa1f5Uengrz"
      }
    },
    {
      "cell_type": "markdown",
      "source": [
        "From my analysis, the demand for rented bikes in the city of Seoul is the highest on average on 18th hour of the day. Also their is another local maxima on the 8th hour of the day in which rental bike demand increases. This could be because people in the morning rush to their offices and the bikes offer an easy and convenient solution around the traffic. Or maybe it could be that people live near their offices so they use bikes for their commute.\n",
        "\n",
        "Also the following created table presents an interesting scenario: -"
      ],
      "metadata": {
        "id": "LbyXE7I1olp8"
      }
    },
    {
      "cell_type": "markdown",
      "source": [
        "![image.png](data:image/png;base64,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)"
      ],
      "metadata": {
        "id": "7iBgU-V2ExVr"
      }
    },
    {
      "cell_type": "markdown",
      "source": [
        "In the table above, we see that their is a higher demand on an average in the Summer season wereas the demand for rental bike reduces significantly in winter season. The other two seansons namely the Autumn and Spring season remains slightly below of summer season demand. This is an indicative that people prefer using rental bike sharing in hotter temperatures.\n",
        "\n",
        "To further back this statement we will look at another table below: -"
      ],
      "metadata": {
        "id": "q6KXy2v7E8Am"
      }
    },
    {
      "cell_type": "markdown",
      "source": [
        "![image.png](data:image/png;base64,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)"
      ],
      "metadata": {
        "id": "AR38DOeFJavJ"
      }
    },
    {
      "cell_type": "markdown",
      "source": [
        "So we see that temperature has almost direct correlation with rental bike demand in Seoul. Since the winter season the temperatures are almost freezing, it could be one of many reasons as to why people dont use rental bike service.\n",
        "\n",
        "Some other modifications that was done is the removal of rows that had \"No\" functionning of rental bike service. 295 entries were removed which belonged to Autumn and spring season. 295 entries translates to 295/24 = 12.3 days. So nearly 12.3 days were holidays in the year in which the Bike rental service was not functioning.\n",
        "\n",
        "There are other factors also present in the data such as humidity, visibility, rainfall etc. which may or may not influence the demand of the service. We will look at how those individual factors affect the bike demand."
      ],
      "metadata": {
        "id": "Udi6hFrcJhmm"
      }
    },
    {
      "cell_type": "markdown",
      "source": [
        "## ***4. Data Vizualization, Storytelling & Experimenting with charts : Understand the relationships between variables***"
      ],
      "metadata": {
        "id": "GF8Ens_Soomf"
      }
    },
    {
      "cell_type": "markdown",
      "source": [
        "#### Chart - 1 Average bike demand, temperature with respect to hour, Season wise (Bivariate)"
      ],
      "metadata": {
        "id": "0wOQAZs5pc--"
      }
    },
    {
      "cell_type": "code",
      "source": [
        "# Chart - 1 visualization code\n",
        "avg_season_wise.plot(kind='bar',\n",
        "                     figsize=(15,9),\n",
        "                     title='Average Rented Bike count Season wise',\n",
        "                     ylabel='Rented Bike Count')"
      ],
      "metadata": {
        "id": "7v_ESjsspbW7",
        "colab": {
          "base_uri": "https://localhost:8080/",
          "height": 816
        },
        "outputId": "ca4dc488-a176-41e9-e5bc-6914fae9a555"
      },
      "execution_count": 21,
      "outputs": [
        {
          "output_type": "execute_result",
          "data": {
            "text/plain": [
              "<Axes: title={'center': 'Average Rented Bike count Season wise'}, xlabel='Hour', ylabel='Rented Bike Count'>"
            ]
          },
          "metadata": {},
          "execution_count": 21
        },
        {
          "output_type": "display_data",
          "data": {
            "text/plain": [
              "<Figure size 1500x900 with 1 Axes>"
            ],
            "image/png": "[encoded data removed]"
          },
          "metadata": {}
        }
      ]
    },
    {
      "cell_type": "code",
      "source": [
        "# average temperature per hour season wise\n",
        "avg_temp_season.plot(kind='bar',\n",
        "                     figsize=(15,9),\n",
        "                     title='Average Temperature(C) per hour Season wise',\n",
        "                     ylabel='Temperature(C)')"
      ],
      "metadata": {
        "colab": {
          "base_uri": "https://localhost:8080/",
          "height": 816
        },
        "id": "QQ10Y0fUDOUa",
        "outputId": "09f6bbaa-187a-4be3-b6b7-9313a431ee2f"
      },
      "execution_count": 22,
      "outputs": [
        {
          "output_type": "execute_result",
          "data": {
            "text/plain": [
              "<Axes: title={'center': 'Average Temperature(C) per hour Season wise'}, xlabel='Hour', ylabel='Temperature(C)'>"
            ]
          },
          "metadata": {},
          "execution_count": 22
        },
        {
          "output_type": "display_data",
          "data": {
            "text/plain": [
              "<Figure size 1500x900 with 1 Axes>"
            ],
            "image/png": "[encoded data removed]"
          },
          "metadata": {}
        }
      ]
    },
    {
      "cell_type": "markdown",
      "source": [
        "##### 1. Why did you pick the specific chart?"
      ],
      "metadata": {
        "id": "K5QZ13OEpz2H"
      }
    },
    {
      "cell_type": "markdown",
      "source": [
        "A bar chart is used to show frequency or percentages of variables in a dataset. Hence this chart was used to show the frequency of app uploads in different categories."
      ],
      "metadata": {
        "id": "XESiWehPqBRc"
      }
    },
    {
      "cell_type": "markdown",
      "source": [
        "##### 2. What is/are the insight(s) found from the chart?"
      ],
      "metadata": {
        "id": "lQ7QKXXCp7Bj"
      }
    },
    {
      "cell_type": "markdown",
      "source": [
        "We see that during the summer season we have highest demand. This is followed by Autumn and Spring season. The least demand expressed by the users was in the Winter season"
      ],
      "metadata": {
        "id": "C_j1G7yiqdRP"
      }
    },
    {
      "cell_type": "markdown",
      "source": [
        "##### 3. Will the gained insights help creating a positive business impact?\n",
        "Are there any insights that lead to negative growth? Justify with specific reason."
      ],
      "metadata": {
        "id": "448CDAPjqfQr"
      }
    },
    {
      "cell_type": "markdown",
      "source": [
        "Yes, the insights presented above indicates that people like to use the rental bike service when it gets warmer outside. So the rental bike service should should make sure a stable supply of demand during the warmer times of the day."
      ],
      "metadata": {
        "id": "3cspy4FjqxJW"
      }
    },
    {
      "cell_type": "markdown",
      "source": [
        "#### Chart - 2 Rented Bike Count vs Humidity (Univariate)"
      ],
      "metadata": {
        "id": "KSlN3yHqYklG"
      }
    },
    {
      "cell_type": "code",
      "source": [
        "# Chart - 2 finding the sum of all the rented bikes based on humidity(%)\n",
        "\n",
        "mod_df.groupby('Humidity(%)').agg({'Rented Bike Count':'sum'}).plot(kind='bar',\n",
        "                                                                    figsize=(15,9),\n",
        "                                                                    title='Rented Bike Count vs Humidity(%)')\n"
      ],
      "metadata": {
        "id": "R4YgtaqtYklH",
        "colab": {
          "base_uri": "https://localhost:8080/",
          "height": 816
        },
        "outputId": "62661618-4694-4f10-f089-851a1b1d24c7"
      },
      "execution_count": 23,
      "outputs": [
        {
          "output_type": "execute_result",
          "data": {
            "text/plain": [
              "<Axes: title={'center': 'Rented Bike Count vs Humidity(%)'}, xlabel='Humidity(%)'>"
            ]
          },
          "metadata": {},
          "execution_count": 23
        },
        {
          "output_type": "display_data",
          "data": {
            "text/plain": [
              "<Figure size 1500x900 with 1 Axes>"
            ],
            "image/png": "[encoded data removed]"
          },
          "metadata": {}
        }
      ]
    },
    {
      "cell_type": "markdown",
      "source": [
        "##### 1. Why did you pick the specific chart?"
      ],
      "metadata": {
        "id": "t6dVpIINYklI"
      }
    },
    {
      "cell_type": "markdown",
      "source": [
        "A bar chart is used to show frequency or percentages of variables in a dataset. Hence this chart was used to show the frequency of app uploads in different categories."
      ],
      "metadata": {
        "id": "5aaW0BYyYklI"
      }
    },
    {
      "cell_type": "markdown",
      "source": [
        "##### 2. What is/are the insight(s) found from the chart?"
      ],
      "metadata": {
        "id": "ijmpgYnKYklI"
      }
    },
    {
      "cell_type": "markdown",
      "source": [
        "From the above chart we can see that the most number of bikes rented was when the Humidity was between the range of 40 to 60."
      ],
      "metadata": {
        "id": "PSx9atu2YklI"
      }
    },
    {
      "cell_type": "markdown",
      "source": [
        "##### 3. Will the gained insights help creating a positive business impact?\n",
        "Are there any insights that lead to negative growth? Justify with specific reason."
      ],
      "metadata": {
        "id": "-JiQyfWJYklI"
      }
    },
    {
      "cell_type": "markdown",
      "source": [
        "Yes, if the humditiy on a particular day is in the range of 40 to 60, the is a very high chance of increased bike demand."
      ],
      "metadata": {
        "id": "BcBbebzrYklV"
      }
    },
    {
      "cell_type": "markdown",
      "source": [
        "#### Chart - 3 Rainfall(mm) vs Rented Bike Count (Univariate)"
      ],
      "metadata": {
        "id": "EM7whBJCYoAo"
      }
    },
    {
      "cell_type": "code",
      "source": [
        "# Chart - 3 Finding the rented bikes sum for different rainfall categories\n",
        "\n",
        "mod_df.groupby('Rainfall(mm)').agg({'Rented Bike Count':'sum'}).sort_values(by='Rented Bike Count',ascending=False).plot(kind='pie',\n",
        "                                                                                                                        subplots=True,\n",
        "                                                                                                                        figsize=(12,10),\n",
        "                                                                                                                         radius=0.7,\n",
        "                                                                                                                        autopct='%1.1f%%',\n",
        "                                                                                                                        title='Rainfall(mm) vs Rentend Bike Count')\n",
        "plt.legend(loc='center left',bbox_to_anchor = (1.0,0.8))"
      ],
      "metadata": {
        "id": "t6GMdE67YoAp",
        "colab": {
          "base_uri": "https://localhost:8080/",
          "height": 1000
        },
        "outputId": "bd4f47fa-56c6-472d-f3d9-c1acc3b14916"
      },
      "execution_count": 24,
      "outputs": [
        {
          "output_type": "execute_result",
          "data": {
            "text/plain": [
              "<matplotlib.legend.Legend at 0x7c7189a35f60>"
            ]
          },
          "metadata": {},
          "execution_count": 24
        },
        {
          "output_type": "display_data",
          "data": {
            "text/plain": [
              "<Figure size 1200x1000 with 1 Axes>"
            ],
            "image/png": "[encoded data removed]"
          },
          "metadata": {}
        }
      ]
    },
    {
      "cell_type": "markdown",
      "source": [
        "##### 1. Why did you pick the specific chart?"
      ],
      "metadata": {
        "id": "fge-S5ZAYoAp"
      }
    },
    {
      "cell_type": "markdown",
      "source": [
        "A pie chart is used to show part-in-total values of the dataset. Here we use this chart to show the total number of bike counts in every individual Humidities."
      ],
      "metadata": {
        "id": "5dBItgRVYoAp"
      }
    },
    {
      "cell_type": "markdown",
      "source": [
        "##### 2. What is/are the insight(s) found from the chart?"
      ],
      "metadata": {
        "id": "85gYPyotYoAp"
      }
    },
    {
      "cell_type": "markdown",
      "source": [
        "As we can see from the above pie chart that majority(98.6%) of bikes were rented when the humditiy was 0.0. This mean that users prefer renting bikes when humidity is almost zero. But this data could also mean that humidity in Seoul is almost always zero and that change in humidity doesn't affect the demand of bikes."
      ],
      "metadata": {
        "id": "4jstXR6OYoAp"
      }
    },
    {
      "cell_type": "markdown",
      "source": [
        "##### 3. Will the gained insights help creating a positive business impact?\n",
        "Are there any insights that lead to negative growth? Justify with specific reason."
      ],
      "metadata": {
        "id": "RoGjAbkUYoAp"
      }
    },
    {
      "cell_type": "markdown",
      "source": [
        "The above analysis could be an indication that people of Seoul prefer renting bikes when humidity is 0.0 or it could be just that majority of the time the humidity of Seoul City remains 0.0 and that any change does not effect the demand of rental Bike service."
      ],
      "metadata": {
        "id": "zfJ8IqMcYoAp"
      }
    },
    {
      "cell_type": "markdown",
      "source": [
        "#### Chart - 4 Wind Speed (m/s) vs Total Rented Bikes Count (Univariate)"
      ],
      "metadata": {
        "id": "4Of9eVA-YrdM"
      }
    },
    {
      "cell_type": "code",
      "source": [
        "# Chart - 4 finding the total number of bikes rented with respect to wind speed\n",
        "mod_df.groupby('Wind speed (m/s)').agg({'Rented Bike Count':'sum'}).sort_values(by='Wind speed (m/s)').plot(figsize=(12,9),\n",
        "                                                                                                            ylabel='Total Rented Bikes',\n",
        "                                                                                                            title='Rented Bike Count vs Wind speed (m/s)')\n"
      ],
      "metadata": {
        "id": "irlUoxc8YrdO",
        "colab": {
          "base_uri": "https://localhost:8080/",
          "height": 812
        },
        "outputId": "810f4420-c7f7-40af-9af1-49b4e12aa1ca"
      },
      "execution_count": 71,
      "outputs": [
        {
          "output_type": "execute_result",
          "data": {
            "text/plain": [
              "<Axes: title={'center': 'Rented Bike Count vs Wind speed (m/s)'}, xlabel='Wind speed (m/s)', ylabel='Total Rented Bikes'>"
            ]
          },
          "metadata": {},
          "execution_count": 71
        },
        {
          "output_type": "display_data",
          "data": {
            "text/plain": [
              "<Figure size 1200x900 with 1 Axes>"
            ],
            "image/png": "[encoded data removed]"
          },
          "metadata": {}
        }
      ]
    },
    {
      "cell_type": "markdown",
      "source": [
        "##### 1. Why did you pick the specific chart?"
      ],
      "metadata": {
        "id": "iky9q4vBYrdO"
      }
    },
    {
      "cell_type": "markdown",
      "source": [
        "Line chart is traditionally used to show relation between two variables in a dataset. Hence a line chart was used to the variation of Total Rented Bike Count based on Wind Speed (m/s)."
      ],
      "metadata": {
        "id": "aJRCwT6DYrdO"
      }
    },
    {
      "cell_type": "markdown",
      "source": [
        "##### 2. What is/are the insight(s) found from the chart?"
      ],
      "metadata": {
        "id": "F6T5p64dYrdO"
      }
    },
    {
      "cell_type": "markdown",
      "source": [
        "From above chart we can see that most number of bikes that was rented was in the wind speed range of 1 to 2."
      ],
      "metadata": {
        "id": "Xx8WAJvtYrdO"
      }
    },
    {
      "cell_type": "markdown",
      "source": [
        "##### 3. Will the gained insights help creating a positive business impact?\n",
        "Are there any insights that lead to negative growth? Justify with specific reason."
      ],
      "metadata": {
        "id": "y-Ehk30pYrdP"
      }
    },
    {
      "cell_type": "markdown",
      "source": [
        "From the above analysis, we can say that the average wind speed of Seoul city is between 1 to 1.5, and people usually prefer to rent bikes in these weather conditions. One reason could be that it could help the rider to stay cool while riding the bike."
      ],
      "metadata": {
        "id": "jLNxxz7MYrdP"
      }
    },
    {
      "cell_type": "markdown",
      "source": [
        "#### Chart - 5"
      ],
      "metadata": {
        "id": "bamQiAODYuh1"
      }
    },
    {
      "cell_type": "code",
      "source": [
        "# Chart - 5 visualization code\n"
      ],
      "metadata": {
        "id": "TIJwrbroYuh3"
      },
      "execution_count": 26,
      "outputs": []
    },
    {
      "cell_type": "markdown",
      "source": [
        "##### 1. Why did you pick the specific chart?"
      ],
      "metadata": {
        "id": "QHF8YVU7Yuh3"
      }
    },
    {
      "cell_type": "markdown",
      "source": [
        "Answer Here."
      ],
      "metadata": {
        "id": "dcxuIMRPYuh3"
      }
    },
    {
      "cell_type": "markdown",
      "source": [
        "##### 2. What is/are the insight(s) found from the chart?"
      ],
      "metadata": {
        "id": "GwzvFGzlYuh3"
      }
    },
    {
      "cell_type": "markdown",
      "source": [
        "Answer Here"
      ],
      "metadata": {
        "id": "uyqkiB8YYuh3"
      }
    },
    {
      "cell_type": "markdown",
      "source": [
        "##### 3. Will the gained insights help creating a positive business impact?\n",
        "Are there any insights that lead to negative growth? Justify with specific reason."
      ],
      "metadata": {
        "id": "qYpmQ266Yuh3"
      }
    },
    {
      "cell_type": "markdown",
      "source": [
        "Answer Here"
      ],
      "metadata": {
        "id": "_WtzZ_hCYuh4"
      }
    },
    {
      "cell_type": "markdown",
      "source": [
        "#### Chart - 6"
      ],
      "metadata": {
        "id": "OH-pJp9IphqM"
      }
    },
    {
      "cell_type": "code",
      "source": [
        "# Chart - 6 visualization code"
      ],
      "metadata": {
        "id": "kuRf4wtuphqN"
      },
      "execution_count": 27,
      "outputs": []
    },
    {
      "cell_type": "markdown",
      "source": [
        "##### 1. Why did you pick the specific chart?"
      ],
      "metadata": {
        "id": "bbFf2-_FphqN"
      }
    },
    {
      "cell_type": "markdown",
      "source": [
        "Answer Here."
      ],
      "metadata": {
        "id": "loh7H2nzphqN"
      }
    },
    {
      "cell_type": "markdown",
      "source": [
        "##### 2. What is/are the insight(s) found from the chart?"
      ],
      "metadata": {
        "id": "_ouA3fa0phqN"
      }
    },
    {
      "cell_type": "markdown",
      "source": [
        "Answer Here"
      ],
      "metadata": {
        "id": "VECbqPI7phqN"
      }
    },
    {
      "cell_type": "markdown",
      "source": [
        "##### 3. Will the gained insights help creating a positive business impact?\n",
        "Are there any insights that lead to negative growth? Justify with specific reason."
      ],
      "metadata": {
        "id": "Seke61FWphqN"
      }
    },
    {
      "cell_type": "markdown",
      "source": [
        "Answer Here"
      ],
      "metadata": {
        "id": "DW4_bGpfphqN"
      }
    },
    {
      "cell_type": "markdown",
      "source": [
        "#### Chart - 7"
      ],
      "metadata": {
        "id": "PIIx-8_IphqN"
      }
    },
    {
      "cell_type": "code",
      "source": [
        "# Chart - 7 visualization code"
      ],
      "metadata": {
        "id": "lqAIGUfyphqO"
      },
      "execution_count": 28,
      "outputs": []
    },
    {
      "cell_type": "markdown",
      "source": [
        "##### 1. Why did you pick the specific chart?"
      ],
      "metadata": {
        "id": "t27r6nlMphqO"
      }
    },
    {
      "cell_type": "markdown",
      "source": [
        "Answer Here."
      ],
      "metadata": {
        "id": "iv6ro40sphqO"
      }
    },
    {
      "cell_type": "markdown",
      "source": [
        "##### 2. What is/are the insight(s) found from the chart?"
      ],
      "metadata": {
        "id": "r2jJGEOYphqO"
      }
    },
    {
      "cell_type": "markdown",
      "source": [
        "Answer Here"
      ],
      "metadata": {
        "id": "Po6ZPi4hphqO"
      }
    },
    {
      "cell_type": "markdown",
      "source": [
        "##### 3. Will the gained insights help creating a positive business impact?\n",
        "Are there any insights that lead to negative growth? Justify with specific reason."
      ],
      "metadata": {
        "id": "b0JNsNcRphqO"
      }
    },
    {
      "cell_type": "markdown",
      "source": [
        "Answer Here"
      ],
      "metadata": {
        "id": "xvSq8iUTphqO"
      }
    },
    {
      "cell_type": "markdown",
      "source": [
        "#### Chart - 8"
      ],
      "metadata": {
        "id": "BZR9WyysphqO"
      }
    },
    {
      "cell_type": "code",
      "source": [
        "# Chart - 8 visualization code"
      ],
      "metadata": {
        "id": "TdPTWpAVphqO"
      },
      "execution_count": 29,
      "outputs": []
    },
    {
      "cell_type": "markdown",
      "source": [
        "##### 1. Why did you pick the specific chart?"
      ],
      "metadata": {
        "id": "jj7wYXLtphqO"
      }
    },
    {
      "cell_type": "markdown",
      "source": [
        "Answer Here."
      ],
      "metadata": {
        "id": "Ob8u6rCTphqO"
      }
    },
    {
      "cell_type": "markdown",
      "source": [
        "##### 2. What is/are the insight(s) found from the chart?"
      ],
      "metadata": {
        "id": "eZrbJ2SmphqO"
      }
    },
    {
      "cell_type": "markdown",
      "source": [
        "Answer Here"
      ],
      "metadata": {
        "id": "mZtgC_hjphqO"
      }
    },
    {
      "cell_type": "markdown",
      "source": [
        "##### 3. Will the gained insights help creating a positive business impact?\n",
        "Are there any insights that lead to negative growth? Justify with specific reason."
      ],
      "metadata": {
        "id": "rFu4xreNphqO"
      }
    },
    {
      "cell_type": "markdown",
      "source": [
        "Answer Here"
      ],
      "metadata": {
        "id": "ey_0qi68phqO"
      }
    },
    {
      "cell_type": "markdown",
      "source": [
        "#### Chart - 9"
      ],
      "metadata": {
        "id": "YJ55k-q6phqO"
      }
    },
    {
      "cell_type": "code",
      "source": [
        "# Chart - 9 visualization code"
      ],
      "metadata": {
        "id": "B2aS4O1ophqO"
      },
      "execution_count": 30,
      "outputs": []
    },
    {
      "cell_type": "markdown",
      "source": [
        "##### 1. Why did you pick the specific chart?"
      ],
      "metadata": {
        "id": "gCFgpxoyphqP"
      }
    },
    {
      "cell_type": "markdown",
      "source": [
        "Answer Here."
      ],
      "metadata": {
        "id": "TVxDimi2phqP"
      }
    },
    {
      "cell_type": "markdown",
      "source": [
        "##### 2. What is/are the insight(s) found from the chart?"
      ],
      "metadata": {
        "id": "OVtJsKN_phqQ"
      }
    },
    {
      "cell_type": "markdown",
      "source": [
        "Answer Here"
      ],
      "metadata": {
        "id": "ngGi97qjphqQ"
      }
    },
    {
      "cell_type": "markdown",
      "source": [
        "##### 3. Will the gained insights help creating a positive business impact?\n",
        "Are there any insights that lead to negative growth? Justify with specific reason."
      ],
      "metadata": {
        "id": "lssrdh5qphqQ"
      }
    },
    {
      "cell_type": "markdown",
      "source": [
        "Answer Here"
      ],
      "metadata": {
        "id": "tBpY5ekJphqQ"
      }
    },
    {
      "cell_type": "markdown",
      "source": [
        "#### Chart - 10"
      ],
      "metadata": {
        "id": "U2RJ9gkRphqQ"
      }
    },
    {
      "cell_type": "code",
      "source": [
        "# Chart - 10 visualization code"
      ],
      "metadata": {
        "id": "GM7a4YP4phqQ"
      },
      "execution_count": 31,
      "outputs": []
    },
    {
      "cell_type": "markdown",
      "source": [
        "##### 1. Why did you pick the specific chart?"
      ],
      "metadata": {
        "id": "1M8mcRywphqQ"
      }
    },
    {
      "cell_type": "markdown",
      "source": [
        "Answer Here."
      ],
      "metadata": {
        "id": "8agQvks0phqQ"
      }
    },
    {
      "cell_type": "markdown",
      "source": [
        "##### 2. What is/are the insight(s) found from the chart?"
      ],
      "metadata": {
        "id": "tgIPom80phqQ"
      }
    },
    {
      "cell_type": "markdown",
      "source": [
        "Answer Here"
      ],
      "metadata": {
        "id": "Qp13pnNzphqQ"
      }
    },
    {
      "cell_type": "markdown",
      "source": [
        "##### 3. Will the gained insights help creating a positive business impact?\n",
        "Are there any insights that lead to negative growth? Justify with specific reason."
      ],
      "metadata": {
        "id": "JMzcOPDDphqR"
      }
    },
    {
      "cell_type": "markdown",
      "source": [
        "Answer Here"
      ],
      "metadata": {
        "id": "R4Ka1PC2phqR"
      }
    },
    {
      "cell_type": "markdown",
      "source": [
        "#### Chart - 11"
      ],
      "metadata": {
        "id": "x-EpHcCOp1ci"
      }
    },
    {
      "cell_type": "code",
      "source": [
        "# Chart - 11 visualization code"
      ],
      "metadata": {
        "id": "mAQTIvtqp1cj"
      },
      "execution_count": 32,
      "outputs": []
    },
    {
      "cell_type": "markdown",
      "source": [
        "##### 1. Why did you pick the specific chart?"
      ],
      "metadata": {
        "id": "X_VqEhTip1ck"
      }
    },
    {
      "cell_type": "markdown",
      "source": [
        "Answer Here."
      ],
      "metadata": {
        "id": "-vsMzt_np1ck"
      }
    },
    {
      "cell_type": "markdown",
      "source": [
        "##### 2. What is/are the insight(s) found from the chart?"
      ],
      "metadata": {
        "id": "8zGJKyg5p1ck"
      }
    },
    {
      "cell_type": "markdown",
      "source": [
        "Answer Here"
      ],
      "metadata": {
        "id": "ZYdMsrqVp1ck"
      }
    },
    {
      "cell_type": "markdown",
      "source": [
        "##### 3. Will the gained insights help creating a positive business impact?\n",
        "Are there any insights that lead to negative growth? Justify with specific reason."
      ],
      "metadata": {
        "id": "PVzmfK_Ep1ck"
      }
    },
    {
      "cell_type": "markdown",
      "source": [
        "Answer Here"
      ],
      "metadata": {
        "id": "druuKYZpp1ck"
      }
    },
    {
      "cell_type": "markdown",
      "source": [
        "#### Chart - 12"
      ],
      "metadata": {
        "id": "n3dbpmDWp1ck"
      }
    },
    {
      "cell_type": "code",
      "source": [
        "# Chart - 12 visualization code"
      ],
      "metadata": {
        "id": "bwevp1tKp1ck"
      },
      "execution_count": 33,
      "outputs": []
    },
    {
      "cell_type": "markdown",
      "source": [
        "##### 1. Why did you pick the specific chart?"
      ],
      "metadata": {
        "id": "ylSl6qgtp1ck"
      }
    },
    {
      "cell_type": "markdown",
      "source": [
        "Answer Here."
      ],
      "metadata": {
        "id": "m2xqNkiQp1ck"
      }
    },
    {
      "cell_type": "markdown",
      "source": [
        "##### 2. What is/are the insight(s) found from the chart?"
      ],
      "metadata": {
        "id": "ZWILFDl5p1ck"
      }
    },
    {
      "cell_type": "markdown",
      "source": [
        "Answer Here"
      ],
      "metadata": {
        "id": "x-lUsV2mp1ck"
      }
    },
    {
      "cell_type": "markdown",
      "source": [
        "##### 3. Will the gained insights help creating a positive business impact?\n",
        "Are there any insights that lead to negative growth? Justify with specific reason."
      ],
      "metadata": {
        "id": "M7G43BXep1ck"
      }
    },
    {
      "cell_type": "markdown",
      "source": [
        "Answer Here"
      ],
      "metadata": {
        "id": "5wwDJXsLp1cl"
      }
    },
    {
      "cell_type": "markdown",
      "source": [
        "#### Chart - 13"
      ],
      "metadata": {
        "id": "Ag9LCva-p1cl"
      }
    },
    {
      "cell_type": "code",
      "source": [
        "# Chart - 13 visualization code"
      ],
      "metadata": {
        "id": "EUfxeq9-p1cl"
      },
      "execution_count": 34,
      "outputs": []
    },
    {
      "cell_type": "markdown",
      "source": [
        "##### 1. Why did you pick the specific chart?"
      ],
      "metadata": {
        "id": "E6MkPsBcp1cl"
      }
    },
    {
      "cell_type": "markdown",
      "source": [
        "Answer Here."
      ],
      "metadata": {
        "id": "V22bRsFWp1cl"
      }
    },
    {
      "cell_type": "markdown",
      "source": [
        "##### 2. What is/are the insight(s) found from the chart?"
      ],
      "metadata": {
        "id": "2cELzS2fp1cl"
      }
    },
    {
      "cell_type": "markdown",
      "source": [
        "Answer Here"
      ],
      "metadata": {
        "id": "ozQPc2_Ip1cl"
      }
    },
    {
      "cell_type": "markdown",
      "source": [
        "##### 3. Will the gained insights help creating a positive business impact?\n",
        "Are there any insights that lead to negative growth? Justify with specific reason."
      ],
      "metadata": {
        "id": "3MPXvC8up1cl"
      }
    },
    {
      "cell_type": "markdown",
      "source": [
        "Answer Here"
      ],
      "metadata": {
        "id": "GL8l1tdLp1cl"
      }
    },
    {
      "cell_type": "markdown",
      "source": [
        "#### Chart - 14 - Correlation Heatmap"
      ],
      "metadata": {
        "id": "NC_X3p0fY2L0"
      }
    },
    {
      "cell_type": "code",
      "source": [
        "# Correlation Heatmap visualization code"
      ],
      "metadata": {
        "id": "xyC9zolEZNRQ"
      },
      "execution_count": 35,
      "outputs": []
    },
    {
      "cell_type": "markdown",
      "source": [
        "##### 1. Why did you pick the specific chart?"
      ],
      "metadata": {
        "id": "UV0SzAkaZNRQ"
      }
    },
    {
      "cell_type": "markdown",
      "source": [
        "Answer Here."
      ],
      "metadata": {
        "id": "DVPuT8LYZNRQ"
      }
    },
    {
      "cell_type": "markdown",
      "source": [
        "##### 2. What is/are the insight(s) found from the chart?"
      ],
      "metadata": {
        "id": "YPEH6qLeZNRQ"
      }
    },
    {
      "cell_type": "markdown",
      "source": [
        "Answer Here"
      ],
      "metadata": {
        "id": "bfSqtnDqZNRR"
      }
    },
    {
      "cell_type": "markdown",
      "source": [
        "#### Chart - 15 - Pair Plot"
      ],
      "metadata": {
        "id": "q29F0dvdveiT"
      }
    },
    {
      "cell_type": "code",
      "source": [
        "# Pair Plot visualization code"
      ],
      "metadata": {
        "id": "o58-TEIhveiU"
      },
      "execution_count": 36,
      "outputs": []
    },
    {
      "cell_type": "markdown",
      "source": [
        "##### 1. Why did you pick the specific chart?"
      ],
      "metadata": {
        "id": "EXh0U9oCveiU"
      }
    },
    {
      "cell_type": "markdown",
      "source": [
        "Answer Here."
      ],
      "metadata": {
        "id": "eMmPjTByveiU"
      }
    },
    {
      "cell_type": "markdown",
      "source": [
        "##### 2. What is/are the insight(s) found from the chart?"
      ],
      "metadata": {
        "id": "22aHeOlLveiV"
      }
    },
    {
      "cell_type": "markdown",
      "source": [
        "Answer Here"
      ],
      "metadata": {
        "id": "uPQ8RGwHveiV"
      }
    },
    {
      "cell_type": "markdown",
      "source": [
        "## ***5. Hypothesis Testing***"
      ],
      "metadata": {
        "id": "g-ATYxFrGrvw"
      }
    },
    {
      "cell_type": "markdown",
      "source": [
        "### Based on your chart experiments, define three hypothetical statements from the dataset. In the next three questions, perform hypothesis testing to obtain final conclusion about the statements through your code and statistical testing."
      ],
      "metadata": {
        "id": "Yfr_Vlr8HBkt"
      }
    },
    {
      "cell_type": "markdown",
      "source": [
        "Answer Here."
      ],
      "metadata": {
        "id": "-7MS06SUHkB-"
      }
    },
    {
      "cell_type": "markdown",
      "source": [
        "### Hypothetical Statement - 1"
      ],
      "metadata": {
        "id": "8yEUt7NnHlrM"
      }
    },
    {
      "cell_type": "markdown",
      "source": [
        "#### 1. State Your research hypothesis as a null hypothesis and alternate hypothesis."
      ],
      "metadata": {
        "id": "tEA2Xm5dHt1r"
      }
    },
    {
      "cell_type": "markdown",
      "source": [
        "Answer Here."
      ],
      "metadata": {
        "id": "HI9ZP0laH0D-"
      }
    },
    {
      "cell_type": "markdown",
      "source": [
        "#### 2. Perform an appropriate statistical test."
      ],
      "metadata": {
        "id": "I79__PHVH19G"
      }
    },
    {
      "cell_type": "code",
      "source": [
        "# Perform Statistical Test to obtain P-Value"
      ],
      "metadata": {
        "id": "oZrfquKtyian"
      },
      "execution_count": 37,
      "outputs": []
    },
    {
      "cell_type": "markdown",
      "source": [
        "##### Which statistical test have you done to obtain P-Value?"
      ],
      "metadata": {
        "id": "Ou-I18pAyIpj"
      }
    },
    {
      "cell_type": "markdown",
      "source": [
        "Answer Here."
      ],
      "metadata": {
        "id": "s2U0kk00ygSB"
      }
    },
    {
      "cell_type": "markdown",
      "source": [
        "##### Why did you choose the specific statistical test?"
      ],
      "metadata": {
        "id": "fF3858GYyt-u"
      }
    },
    {
      "cell_type": "markdown",
      "source": [
        "Answer Here."
      ],
      "metadata": {
        "id": "HO4K0gP5y3B4"
      }
    },
    {
      "cell_type": "markdown",
      "source": [
        "### Hypothetical Statement - 2"
      ],
      "metadata": {
        "id": "4_0_7-oCpUZd"
      }
    },
    {
      "cell_type": "markdown",
      "source": [
        "#### 1. State Your research hypothesis as a null hypothesis and alternate hypothesis."
      ],
      "metadata": {
        "id": "hwyV_J3ipUZe"
      }
    },
    {
      "cell_type": "markdown",
      "source": [
        "Answer Here."
      ],
      "metadata": {
        "id": "FnpLGJ-4pUZe"
      }
    },
    {
      "cell_type": "markdown",
      "source": [
        "#### 2. Perform an appropriate statistical test."
      ],
      "metadata": {
        "id": "3yB-zSqbpUZe"
      }
    },
    {
      "cell_type": "code",
      "source": [
        "# Perform Statistical Test to obtain P-Value"
      ],
      "metadata": {
        "id": "sWxdNTXNpUZe"
      },
      "execution_count": 38,
      "outputs": []
    },
    {
      "cell_type": "markdown",
      "source": [
        "##### Which statistical test have you done to obtain P-Value?"
      ],
      "metadata": {
        "id": "dEUvejAfpUZe"
      }
    },
    {
      "cell_type": "markdown",
      "source": [
        "Answer Here."
      ],
      "metadata": {
        "id": "oLDrPz7HpUZf"
      }
    },
    {
      "cell_type": "markdown",
      "source": [
        "##### Why did you choose the specific statistical test?"
      ],
      "metadata": {
        "id": "Fd15vwWVpUZf"
      }
    },
    {
      "cell_type": "markdown",
      "source": [
        "Answer Here."
      ],
      "metadata": {
        "id": "4xOGYyiBpUZf"
      }
    },
    {
      "cell_type": "markdown",
      "source": [
        "### Hypothetical Statement - 3"
      ],
      "metadata": {
        "id": "bn_IUdTipZyH"
      }
    },
    {
      "cell_type": "markdown",
      "source": [
        "#### 1. State Your research hypothesis as a null hypothesis and alternate hypothesis."
      ],
      "metadata": {
        "id": "49K5P_iCpZyH"
      }
    },
    {
      "cell_type": "markdown",
      "source": [
        "Answer Here."
      ],
      "metadata": {
        "id": "7gWI5rT9pZyH"
      }
    },
    {
      "cell_type": "markdown",
      "source": [
        "#### 2. Perform an appropriate statistical test."
      ],
      "metadata": {
        "id": "Nff-vKELpZyI"
      }
    },
    {
      "cell_type": "code",
      "source": [
        "# Perform Statistical Test to obtain P-Value"
      ],
      "metadata": {
        "id": "s6AnJQjtpZyI"
      },
      "execution_count": 39,
      "outputs": []
    },
    {
      "cell_type": "markdown",
      "source": [
        "##### Which statistical test have you done to obtain P-Value?"
      ],
      "metadata": {
        "id": "kLW572S8pZyI"
      }
    },
    {
      "cell_type": "markdown",
      "source": [
        "Answer Here."
      ],
      "metadata": {
        "id": "ytWJ8v15pZyI"
      }
    },
    {
      "cell_type": "markdown",
      "source": [
        "##### Why did you choose the specific statistical test?"
      ],
      "metadata": {
        "id": "dWbDXHzopZyI"
      }
    },
    {
      "cell_type": "markdown",
      "source": [
        "Answer Here."
      ],
      "metadata": {
        "id": "M99G98V6pZyI"
      }
    },
    {
      "cell_type": "markdown",
      "source": [
        "## ***6. Feature Engineering & Data Pre-processing***"
      ],
      "metadata": {
        "id": "yLjJCtPM0KBk"
      }
    },
    {
      "cell_type": "markdown",
      "source": [
        "### 1. Handling Missing Values"
      ],
      "metadata": {
        "id": "xiyOF9F70UgQ"
      }
    },
    {
      "cell_type": "code",
      "source": [
        "# Handling Missing Values & Missing Value Imputation"
      ],
      "metadata": {
        "id": "iRsAHk1K0fpS"
      },
      "execution_count": 40,
      "outputs": []
    },
    {
      "cell_type": "markdown",
      "source": [
        "#### What all missing value imputation techniques have you used and why did you use those techniques?"
      ],
      "metadata": {
        "id": "7wuGOrhz0itI"
      }
    },
    {
      "cell_type": "markdown",
      "source": [
        "Answer Here."
      ],
      "metadata": {
        "id": "1ixusLtI0pqI"
      }
    },
    {
      "cell_type": "markdown",
      "source": [
        "### 2. Handling Outliers"
      ],
      "metadata": {
        "id": "id1riN9m0vUs"
      }
    },
    {
      "cell_type": "code",
      "source": [
        "# Handling Outliers & Outlier treatments"
      ],
      "metadata": {
        "id": "M6w2CzZf04JK"
      },
      "execution_count": 41,
      "outputs": []
    },
    {
      "cell_type": "markdown",
      "source": [
        "##### What all outlier treatment techniques have you used and why did you use those techniques?"
      ],
      "metadata": {
        "id": "578E2V7j08f6"
      }
    },
    {
      "cell_type": "markdown",
      "source": [
        "Answer Here."
      ],
      "metadata": {
        "id": "uGZz5OrT1HH-"
      }
    },
    {
      "cell_type": "markdown",
      "source": [
        "### 3. Categorical Encoding"
      ],
      "metadata": {
        "id": "89xtkJwZ18nB"
      }
    },
    {
      "cell_type": "code",
      "source": [
        "# Encode your categorical columns"
      ],
      "metadata": {
        "id": "21JmIYMG2hEo"
      },
      "execution_count": 42,
      "outputs": []
    },
    {
      "cell_type": "markdown",
      "source": [
        "#### What all categorical encoding techniques have you used & why did you use those techniques?"
      ],
      "metadata": {
        "id": "67NQN5KX2AMe"
      }
    },
    {
      "cell_type": "markdown",
      "source": [
        "Answer Here."
      ],
      "metadata": {
        "id": "UDaue5h32n_G"
      }
    },
    {
      "cell_type": "markdown",
      "source": [
        "### 4. Textual Data Preprocessing\n",
        "(It's mandatory for textual dataset i.e., NLP, Sentiment Analysis, Text Clustering etc.)"
      ],
      "metadata": {
        "id": "Iwf50b-R2tYG"
      }
    },
    {
      "cell_type": "markdown",
      "source": [
        "#### 1. Expand Contraction"
      ],
      "metadata": {
        "id": "GMQiZwjn3iu7"
      }
    },
    {
      "cell_type": "code",
      "source": [
        "# Expand Contraction"
      ],
      "metadata": {
        "id": "PTouz10C3oNN"
      },
      "execution_count": 43,
      "outputs": []
    },
    {
      "cell_type": "markdown",
      "source": [
        "#### 2. Lower Casing"
      ],
      "metadata": {
        "id": "WVIkgGqN3qsr"
      }
    },
    {
      "cell_type": "code",
      "source": [
        "# Lower Casing"
      ],
      "metadata": {
        "id": "88JnJ1jN3w7j"
      },
      "execution_count": 44,
      "outputs": []
    },
    {
      "cell_type": "markdown",
      "source": [
        "#### 3. Removing Punctuations"
      ],
      "metadata": {
        "id": "XkPnILGE3zoT"
      }
    },
    {
      "cell_type": "code",
      "source": [
        "# Remove Punctuations"
      ],
      "metadata": {
        "id": "vqbBqNaA33c0"
      },
      "execution_count": 45,
      "outputs": []
    },
    {
      "cell_type": "markdown",
      "source": [
        "#### 4. Removing URLs & Removing words and digits contain digits."
      ],
      "metadata": {
        "id": "Hlsf0x5436Go"
      }
    },
    {
      "cell_type": "code",
      "source": [
        "# Remove URLs & Remove words and digits contain digits"
      ],
      "metadata": {
        "id": "2sxKgKxu4Ip3"
      },
      "execution_count": 46,
      "outputs": []
    },
    {
      "cell_type": "markdown",
      "source": [
        "#### 5. Removing Stopwords & Removing White spaces"
      ],
      "metadata": {
        "id": "mT9DMSJo4nBL"
      }
    },
    {
      "cell_type": "code",
      "source": [
        "# Remove Stopwords"
      ],
      "metadata": {
        "id": "T2LSJh154s8W"
      },
      "execution_count": 47,
      "outputs": []
    },
    {
      "cell_type": "code",
      "source": [
        "# Remove White spaces"
      ],
      "metadata": {
        "id": "EgLJGffy4vm0"
      },
      "execution_count": 48,
      "outputs": []
    },
    {
      "cell_type": "markdown",
      "source": [
        "#### 6. Rephrase Text"
      ],
      "metadata": {
        "id": "c49ITxTc407N"
      }
    },
    {
      "cell_type": "code",
      "source": [
        "# Rephrase Text"
      ],
      "metadata": {
        "id": "foqY80Qu48N2"
      },
      "execution_count": 49,
      "outputs": []
    },
    {
      "cell_type": "markdown",
      "source": [
        "#### 7. Tokenization"
      ],
      "metadata": {
        "id": "OeJFEK0N496M"
      }
    },
    {
      "cell_type": "code",
      "source": [
        "# Tokenization"
      ],
      "metadata": {
        "id": "ijx1rUOS5CUU"
      },
      "execution_count": 50,
      "outputs": []
    },
    {
      "cell_type": "markdown",
      "source": [
        "#### 8. Text Normalization"
      ],
      "metadata": {
        "id": "9ExmJH0g5HBk"
      }
    },
    {
      "cell_type": "code",
      "source": [
        "# Normalizing Text (i.e., Stemming, Lemmatization etc.)"
      ],
      "metadata": {
        "id": "AIJ1a-Zc5PY8"
      },
      "execution_count": 51,
      "outputs": []
    },
    {
      "cell_type": "markdown",
      "source": [
        "##### Which text normalization technique have you used and why?"
      ],
      "metadata": {
        "id": "cJNqERVU536h"
      }
    },
    {
      "cell_type": "markdown",
      "source": [
        "Answer Here."
      ],
      "metadata": {
        "id": "Z9jKVxE06BC1"
      }
    },
    {
      "cell_type": "markdown",
      "source": [
        "#### 9. Part of speech tagging"
      ],
      "metadata": {
        "id": "k5UmGsbsOxih"
      }
    },
    {
      "cell_type": "code",
      "source": [
        "# POS Taging"
      ],
      "metadata": {
        "id": "btT3ZJBAO6Ik"
      },
      "execution_count": 52,
      "outputs": []
    },
    {
      "cell_type": "markdown",
      "source": [
        "#### 10. Text Vectorization"
      ],
      "metadata": {
        "id": "T0VqWOYE6DLQ"
      }
    },
    {
      "cell_type": "code",
      "source": [
        "# Vectorizing Text"
      ],
      "metadata": {
        "id": "yBRtdhth6JDE"
      },
      "execution_count": 53,
      "outputs": []
    },
    {
      "cell_type": "markdown",
      "source": [
        "##### Which text vectorization technique have you used and why?"
      ],
      "metadata": {
        "id": "qBMux9mC6MCf"
      }
    },
    {
      "cell_type": "markdown",
      "source": [
        "Answer Here."
      ],
      "metadata": {
        "id": "su2EnbCh6UKQ"
      }
    },
    {
      "cell_type": "markdown",
      "source": [
        "### 4. Feature Manipulation & Selection"
      ],
      "metadata": {
        "id": "-oLEiFgy-5Pf"
      }
    },
    {
      "cell_type": "markdown",
      "source": [
        "#### 1. Feature Manipulation"
      ],
      "metadata": {
        "id": "C74aWNz2AliB"
      }
    },
    {
      "cell_type": "code",
      "source": [
        "# Manipulate Features to minimize feature correlation and create new features"
      ],
      "metadata": {
        "id": "h1qC4yhBApWC"
      },
      "execution_count": 54,
      "outputs": []
    },
    {
      "cell_type": "markdown",
      "source": [
        "#### 2. Feature Selection"
      ],
      "metadata": {
        "id": "2DejudWSA-a0"
      }
    },
    {
      "cell_type": "code",
      "source": [
        "# Select your features wisely to avoid overfitting"
      ],
      "metadata": {
        "id": "YLhe8UmaBCEE"
      },
      "execution_count": 55,
      "outputs": []
    },
    {
      "cell_type": "markdown",
      "source": [
        "##### What all feature selection methods have you used  and why?"
      ],
      "metadata": {
        "id": "pEMng2IbBLp7"
      }
    },
    {
      "cell_type": "markdown",
      "source": [
        "Answer Here."
      ],
      "metadata": {
        "id": "rb2Lh6Z8BgGs"
      }
    },
    {
      "cell_type": "markdown",
      "source": [
        "##### Which all features you found important and why?"
      ],
      "metadata": {
        "id": "rAdphbQ9Bhjc"
      }
    },
    {
      "cell_type": "markdown",
      "source": [
        "Answer Here."
      ],
      "metadata": {
        "id": "fGgaEstsBnaf"
      }
    },
    {
      "cell_type": "markdown",
      "source": [
        "### 5. Data Transformation"
      ],
      "metadata": {
        "id": "TNVZ9zx19K6k"
      }
    },
    {
      "cell_type": "markdown",
      "source": [
        "#### Do you think that your data needs to be transformed? If yes, which transformation have you used. Explain Why?"
      ],
      "metadata": {
        "id": "nqoHp30x9hH9"
      }
    },
    {
      "cell_type": "code",
      "source": [
        "# Transform Your data"
      ],
      "metadata": {
        "id": "I6quWQ1T9rtH"
      },
      "execution_count": 56,
      "outputs": []
    },
    {
      "cell_type": "markdown",
      "source": [
        "### 6. Data Scaling"
      ],
      "metadata": {
        "id": "rMDnDkt2B6du"
      }
    },
    {
      "cell_type": "code",
      "source": [
        "# Scaling your data"
      ],
      "metadata": {
        "id": "dL9LWpySC6x_"
      },
      "execution_count": 57,
      "outputs": []
    },
    {
      "cell_type": "markdown",
      "source": [
        "##### Which method have you used to scale you data and why?"
      ],
      "metadata": {
        "id": "yiiVWRdJDDil"
      }
    },
    {
      "cell_type": "markdown",
      "source": [
        "### 7. Dimesionality Reduction"
      ],
      "metadata": {
        "id": "1UUpS68QDMuG"
      }
    },
    {
      "cell_type": "markdown",
      "source": [
        "##### Do you think that dimensionality reduction is needed? Explain Why?"
      ],
      "metadata": {
        "id": "kexQrXU-DjzY"
      }
    },
    {
      "cell_type": "markdown",
      "source": [
        "Answer Here."
      ],
      "metadata": {
        "id": "GGRlBsSGDtTQ"
      }
    },
    {
      "cell_type": "code",
      "source": [
        "# DImensionality Reduction (If needed)"
      ],
      "metadata": {
        "id": "kQfvxBBHDvCa"
      },
      "execution_count": 58,
      "outputs": []
    },
    {
      "cell_type": "markdown",
      "source": [
        "##### Which dimensionality reduction technique have you used and why? (If dimensionality reduction done on dataset.)"
      ],
      "metadata": {
        "id": "T5CmagL3EC8N"
      }
    },
    {
      "cell_type": "markdown",
      "source": [
        "Answer Here."
      ],
      "metadata": {
        "id": "ZKr75IDuEM7t"
      }
    },
    {
      "cell_type": "markdown",
      "source": [
        "### 8. Data Splitting"
      ],
      "metadata": {
        "id": "BhH2vgX9EjGr"
      }
    },
    {
      "cell_type": "code",
      "source": [
        "# Split your data to train and test. Choose Splitting ratio wisely."
      ],
      "metadata": {
        "id": "0CTyd2UwEyNM"
      },
      "execution_count": 59,
      "outputs": []
    },
    {
      "cell_type": "markdown",
      "source": [
        "##### What data splitting ratio have you used and why?"
      ],
      "metadata": {
        "id": "qjKvONjwE8ra"
      }
    },
    {
      "cell_type": "markdown",
      "source": [
        "Answer Here."
      ],
      "metadata": {
        "id": "Y2lJ8cobFDb_"
      }
    },
    {
      "cell_type": "markdown",
      "source": [
        "### 9. Handling Imbalanced Dataset"
      ],
      "metadata": {
        "id": "P1XJ9OREExlT"
      }
    },
    {
      "cell_type": "markdown",
      "source": [
        "##### Do you think the dataset is imbalanced? Explain Why."
      ],
      "metadata": {
        "id": "VFOzZv6IFROw"
      }
    },
    {
      "cell_type": "markdown",
      "source": [
        "Answer Here."
      ],
      "metadata": {
        "id": "GeKDIv7pFgcC"
      }
    },
    {
      "cell_type": "code",
      "source": [
        "# Handling Imbalanced Dataset (If needed)"
      ],
      "metadata": {
        "id": "nQsRhhZLFiDs"
      },
      "execution_count": 60,
      "outputs": []
    },
    {
      "cell_type": "markdown",
      "source": [
        "##### What technique did you use to handle the imbalance dataset and why? (If needed to be balanced)"
      ],
      "metadata": {
        "id": "TIqpNgepFxVj"
      }
    },
    {
      "cell_type": "markdown",
      "source": [
        "Answer Here."
      ],
      "metadata": {
        "id": "qbet1HwdGDTz"
      }
    },
    {
      "cell_type": "markdown",
      "source": [
        "## ***7. ML Model Implementation***"
      ],
      "metadata": {
        "id": "VfCC591jGiD4"
      }
    },
    {
      "cell_type": "markdown",
      "source": [
        "### ML Model - 1"
      ],
      "metadata": {
        "id": "OB4l2ZhMeS1U"
      }
    },
    {
      "cell_type": "code",
      "source": [
        "# ML Model - 1 Implementation\n",
        "\n",
        "# Fit the Algorithm\n",
        "\n",
        "# Predict on the model"
      ],
      "metadata": {
        "id": "7ebyywQieS1U"
      },
      "execution_count": 61,
      "outputs": []
    },
    {
      "cell_type": "markdown",
      "source": [
        "#### 1. Explain the ML Model used and it's performance using Evaluation metric Score Chart."
      ],
      "metadata": {
        "id": "ArJBuiUVfxKd"
      }
    },
    {
      "cell_type": "code",
      "source": [
        "# Visualizing evaluation Metric Score chart"
      ],
      "metadata": {
        "id": "rqD5ZohzfxKe"
      },
      "execution_count": 62,
      "outputs": []
    },
    {
      "cell_type": "markdown",
      "source": [
        "#### 2. Cross- Validation & Hyperparameter Tuning"
      ],
      "metadata": {
        "id": "4qY1EAkEfxKe"
      }
    },
    {
      "cell_type": "code",
      "source": [
        "# ML Model - 1 Implementation with hyperparameter optimization techniques (i.e., GridSearch CV, RandomSearch CV, Bayesian Optimization etc.)\n",
        "\n",
        "# Fit the Algorithm\n",
        "\n",
        "# Predict on the model"
      ],
      "metadata": {
        "id": "Dy61ujd6fxKe"
      },
      "execution_count": 63,
      "outputs": []
    },
    {
      "cell_type": "markdown",
      "source": [
        "##### Which hyperparameter optimization technique have you used and why?"
      ],
      "metadata": {
        "id": "PiV4Ypx8fxKe"
      }
    },
    {
      "cell_type": "markdown",
      "source": [
        "Answer Here."
      ],
      "metadata": {
        "id": "negyGRa7fxKf"
      }
    },
    {
      "cell_type": "markdown",
      "source": [
        "##### Have you seen any improvement? Note down the improvement with updates Evaluation metric Score Chart."
      ],
      "metadata": {
        "id": "TfvqoZmBfxKf"
      }
    },
    {
      "cell_type": "markdown",
      "source": [
        "Answer Here."
      ],
      "metadata": {
        "id": "OaLui8CcfxKf"
      }
    },
    {
      "cell_type": "markdown",
      "source": [
        "### ML Model - 2"
      ],
      "metadata": {
        "id": "dJ2tPlVmpsJ0"
      }
    },
    {
      "cell_type": "markdown",
      "source": [
        "#### 1. Explain the ML Model used and it's performance using Evaluation metric Score Chart."
      ],
      "metadata": {
        "id": "JWYfwnehpsJ1"
      }
    },
    {
      "cell_type": "code",
      "source": [
        "# Visualizing evaluation Metric Score chart"
      ],
      "metadata": {
        "id": "yEl-hgQWpsJ1"
      },
      "execution_count": 64,
      "outputs": []
    },
    {
      "cell_type": "markdown",
      "source": [
        "#### 2. Cross- Validation & Hyperparameter Tuning"
      ],
      "metadata": {
        "id": "-jK_YjpMpsJ2"
      }
    },
    {
      "cell_type": "code",
      "source": [
        "# ML Model - 1 Implementation with hyperparameter optimization techniques (i.e., GridSearch CV, RandomSearch CV, Bayesian Optimization etc.)\n",
        "\n",
        "# Fit the Algorithm\n",
        "\n",
        "# Predict on the model"
      ],
      "metadata": {
        "id": "Dn0EOfS6psJ2"
      },
      "execution_count": 65,
      "outputs": []
    },
    {
      "cell_type": "markdown",
      "source": [
        "##### Which hyperparameter optimization technique have you used and why?"
      ],
      "metadata": {
        "id": "HAih1iBOpsJ2"
      }
    },
    {
      "cell_type": "markdown",
      "source": [
        "Answer Here."
      ],
      "metadata": {
        "id": "9kBgjYcdpsJ2"
      }
    },
    {
      "cell_type": "markdown",
      "source": [
        "##### Have you seen any improvement? Note down the improvement with updates Evaluation metric Score Chart."
      ],
      "metadata": {
        "id": "zVGeBEFhpsJ2"
      }
    },
    {
      "cell_type": "markdown",
      "source": [
        "Answer Here."
      ],
      "metadata": {
        "id": "74yRdG6UpsJ3"
      }
    },
    {
      "cell_type": "markdown",
      "source": [
        "#### 3. Explain each evaluation metric's indication towards business and the business impact pf the ML model used."
      ],
      "metadata": {
        "id": "bmKjuQ-FpsJ3"
      }
    },
    {
      "cell_type": "markdown",
      "source": [
        "Answer Here."
      ],
      "metadata": {
        "id": "BDKtOrBQpsJ3"
      }
    },
    {
      "cell_type": "markdown",
      "source": [
        "### ML Model - 3"
      ],
      "metadata": {
        "id": "Fze-IPXLpx6K"
      }
    },
    {
      "cell_type": "code",
      "source": [
        "# ML Model - 3 Implementation\n",
        "\n",
        "# Fit the Algorithm\n",
        "\n",
        "# Predict on the model"
      ],
      "metadata": {
        "id": "FFrSXAtrpx6M"
      },
      "execution_count": 66,
      "outputs": []
    },
    {
      "cell_type": "markdown",
      "source": [
        "#### 1. Explain the ML Model used and it's performance using Evaluation metric Score Chart."
      ],
      "metadata": {
        "id": "7AN1z2sKpx6M"
      }
    },
    {
      "cell_type": "code",
      "source": [
        "# Visualizing evaluation Metric Score chart"
      ],
      "metadata": {
        "id": "xIY4lxxGpx6M"
      },
      "execution_count": 67,
      "outputs": []
    },
    {
      "cell_type": "markdown",
      "source": [
        "#### 2. Cross- Validation & Hyperparameter Tuning"
      ],
      "metadata": {
        "id": "9PIHJqyupx6M"
      }
    },
    {
      "cell_type": "code",
      "source": [
        "# ML Model - 3 Implementation with hyperparameter optimization techniques (i.e., GridSearch CV, RandomSearch CV, Bayesian Optimization etc.)\n",
        "\n",
        "# Fit the Algorithm\n",
        "\n",
        "# Predict on the model"
      ],
      "metadata": {
        "id": "eSVXuaSKpx6M"
      },
      "execution_count": 68,
      "outputs": []
    },
    {
      "cell_type": "markdown",
      "source": [
        "##### Which hyperparameter optimization technique have you used and why?"
      ],
      "metadata": {
        "id": "_-qAgymDpx6N"
      }
    },
    {
      "cell_type": "markdown",
      "source": [
        "Answer Here."
      ],
      "metadata": {
        "id": "lQMffxkwpx6N"
      }
    },
    {
      "cell_type": "markdown",
      "source": [
        "##### Have you seen any improvement? Note down the improvement with updates Evaluation metric Score Chart."
      ],
      "metadata": {
        "id": "Z-hykwinpx6N"
      }
    },
    {
      "cell_type": "markdown",
      "source": [
        "Answer Here."
      ],
      "metadata": {
        "id": "MzVzZC6opx6N"
      }
    },
    {
      "cell_type": "markdown",
      "source": [
        "### 1. Which Evaluation metrics did you consider for a positive business impact and why?"
      ],
      "metadata": {
        "id": "h_CCil-SKHpo"
      }
    },
    {
      "cell_type": "markdown",
      "source": [
        "Answer Here."
      ],
      "metadata": {
        "id": "jHVz9hHDKFms"
      }
    },
    {
      "cell_type": "markdown",
      "source": [
        "### 2. Which ML model did you choose from the above created models as your final prediction model and why?"
      ],
      "metadata": {
        "id": "cBFFvTBNJzUa"
      }
    },
    {
      "cell_type": "markdown",
      "source": [
        "Answer Here."
      ],
      "metadata": {
        "id": "6ksF5Q1LKTVm"
      }
    },
    {
      "cell_type": "markdown",
      "source": [
        "### 3. Explain the model which you have used and the feature importance using any model explainability tool?"
      ],
      "metadata": {
        "id": "HvGl1hHyA_VK"
      }
    },
    {
      "cell_type": "markdown",
      "source": [
        "Answer Here."
      ],
      "metadata": {
        "id": "YnvVTiIxBL-C"
      }
    },
    {
      "cell_type": "markdown",
      "source": [
        "## ***8.*** ***Future Work (Optional)***"
      ],
      "metadata": {
        "id": "EyNgTHvd2WFk"
      }
    },
    {
      "cell_type": "markdown",
      "source": [
        "### 1. Save the best performing ml model in a pickle file or joblib file format for deployment process.\n"
      ],
      "metadata": {
        "id": "KH5McJBi2d8v"
      }
    },
    {
      "cell_type": "code",
      "source": [
        "# Save the File"
      ],
      "metadata": {
        "id": "bQIANRl32f4J"
      },
      "execution_count": 69,
      "outputs": []
    },
    {
      "cell_type": "markdown",
      "source": [
        "### 2. Again Load the saved model file and try to predict unseen data for a sanity check.\n"
      ],
      "metadata": {
        "id": "iW_Lq9qf2h6X"
      }
    },
    {
      "cell_type": "code",
      "source": [
        "# Load the File and predict unseen data."
      ],
      "metadata": {
        "id": "oEXk9ydD2nVC"
      },
      "execution_count": 70,
      "outputs": []
    },
    {
      "cell_type": "markdown",
      "source": [
        "### ***Congrats! Your model is successfully created and ready for deployment on a live server for a real user interaction !!!***"
      ],
      "metadata": {
        "id": "-Kee-DAl2viO"
      }
    },
    {
      "cell_type": "markdown",
      "source": [
        "# **Conclusion**"
      ],
      "metadata": {
        "id": "gCX9965dhzqZ"
      }
    },
    {
      "cell_type": "markdown",
      "source": [
        "Write the conclusion here."
      ],
      "metadata": {
        "id": "Fjb1IsQkh3yE"
      }
    },
    {
      "cell_type": "markdown",
      "source": [
        "### ***Hurrah! You have successfully completed your Machine Learning Capstone Project !!!***"
      ],
      "metadata": {
        "id": "gIfDvo9L0UH2"
      }
    }
  ]
}